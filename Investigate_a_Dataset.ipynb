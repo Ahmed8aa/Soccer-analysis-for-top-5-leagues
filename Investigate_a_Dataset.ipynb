{
 "cells": [
  {
   "cell_type": "markdown",
   "metadata": {},
   "source": [
    "\n",
    "# Project: Investigate a Dataset - [Soccer Database]\n",
    "\n",
    "## Table of Contents\n",
    "<ul>\n",
    "<li><a href=\"#intro\">Introduction</a></li>\n",
    "<li><a href=\"#wrangling\">Data Wrangling</a></li>\n",
    "<li><a href=\"#eda\">Exploratory Data Analysis</a></li>\n",
    "<li><a href=\"#conclusions\">Conclusions</a></li>\n",
    "</ul>"
   ]
  },
  {
   "cell_type": "markdown",
   "metadata": {},
   "source": [
    "<a id='intro'></a>\n",
    "## Introduction\n"
   ]
  },
  {
   "cell_type": "code",
   "execution_count": 1,
   "metadata": {},
   "outputs": [],
   "source": [
    "import pandas as pd\n",
    "import numpy as np\n",
    "import sqlite3\n",
    "import matplotlib.pyplot as plt\n",
    "import seaborn as sns\n",
    "%matplotlib inline\n"
   ]
  },
  {
   "cell_type": "code",
   "execution_count": 2,
   "metadata": {},
   "outputs": [
    {
     "name": "stdout",
     "output_type": "stream",
     "text": [
      "Requirement already up-to-date: pandas==0.25.0 in /opt/conda/lib/python3.6/site-packages (0.25.0)\n",
      "Requirement already satisfied, skipping upgrade: pytz>=2017.2 in /opt/conda/lib/python3.6/site-packages (from pandas==0.25.0) (2017.3)\n",
      "Requirement already satisfied, skipping upgrade: numpy>=1.13.3 in /opt/conda/lib/python3.6/site-packages (from pandas==0.25.0) (1.19.5)\n",
      "Requirement already satisfied, skipping upgrade: python-dateutil>=2.6.1 in /opt/conda/lib/python3.6/site-packages (from pandas==0.25.0) (2.6.1)\n",
      "Requirement already satisfied, skipping upgrade: six>=1.5 in /opt/conda/lib/python3.6/site-packages (from python-dateutil>=2.6.1->pandas==0.25.0) (1.11.0)\n",
      "Requirement already satisfied: xmltodict in /opt/conda/lib/python3.6/site-packages (0.13.0)\n"
     ]
    }
   ],
   "source": [
    "# Upgrade pandas to use dataframe.explode() function. \n",
    "!pip install --upgrade pandas==0.25.0\n",
    "!pip install xmltodict"
   ]
  },
  {
   "cell_type": "code",
   "execution_count": 3,
   "metadata": {},
   "outputs": [],
   "source": [
    "import xmltodict   #to excute data from xml column"
   ]
  },
  {
   "cell_type": "markdown",
   "metadata": {},
   "source": [
    "<a id='wrangling'></a>\n",
    "## Data Wrangling\n",
    "\n",
    "\n",
    "\n",
    "\n"
   ]
  },
  {
   "cell_type": "code",
   "execution_count": 4,
   "metadata": {},
   "outputs": [],
   "source": [
    "#creating data frame from the tables\n",
    "conn=sqlite3.connect('database.sqlite')\n",
    "df_m=pd.read_sql('SELECT* FROM Match',con=conn)\n",
    "df_c=pd.read_sql('SELECT* FROM Country',con=conn)\n",
    "df_l=pd.read_sql('SELECT* FROM League',con=conn)\n",
    "df_p=pd.read_sql('SELECT* FROM Player',con=conn)\n",
    "df_t=pd.read_sql('SELECT* FROM Team',con=conn)\n"
   ]
  },
  {
   "cell_type": "code",
   "execution_count": 5,
   "metadata": {},
   "outputs": [
    {
     "data": {
      "text/html": [
       "<div>\n",
       "<style scoped>\n",
       "    .dataframe tbody tr th:only-of-type {\n",
       "        vertical-align: middle;\n",
       "    }\n",
       "\n",
       "    .dataframe tbody tr th {\n",
       "        vertical-align: top;\n",
       "    }\n",
       "\n",
       "    .dataframe thead th {\n",
       "        text-align: right;\n",
       "    }\n",
       "</style>\n",
       "<table border=\"1\" class=\"dataframe\">\n",
       "  <thead>\n",
       "    <tr style=\"text-align: right;\">\n",
       "      <th></th>\n",
       "      <th>id</th>\n",
       "      <th>country_id</th>\n",
       "      <th>league_id</th>\n",
       "      <th>season</th>\n",
       "      <th>stage</th>\n",
       "      <th>date</th>\n",
       "      <th>match_api_id</th>\n",
       "      <th>home_team_api_id</th>\n",
       "      <th>away_team_api_id</th>\n",
       "      <th>home_team_goal</th>\n",
       "      <th>...</th>\n",
       "      <th>SJA</th>\n",
       "      <th>VCH</th>\n",
       "      <th>VCD</th>\n",
       "      <th>VCA</th>\n",
       "      <th>GBH</th>\n",
       "      <th>GBD</th>\n",
       "      <th>GBA</th>\n",
       "      <th>BSH</th>\n",
       "      <th>BSD</th>\n",
       "      <th>BSA</th>\n",
       "    </tr>\n",
       "  </thead>\n",
       "  <tbody>\n",
       "    <tr>\n",
       "      <th>0</th>\n",
       "      <td>1</td>\n",
       "      <td>1</td>\n",
       "      <td>1</td>\n",
       "      <td>2008/2009</td>\n",
       "      <td>1</td>\n",
       "      <td>2008-08-17 00:00:00</td>\n",
       "      <td>492473</td>\n",
       "      <td>9987</td>\n",
       "      <td>9993</td>\n",
       "      <td>1</td>\n",
       "      <td>...</td>\n",
       "      <td>4.00</td>\n",
       "      <td>1.65</td>\n",
       "      <td>3.40</td>\n",
       "      <td>4.50</td>\n",
       "      <td>1.78</td>\n",
       "      <td>3.25</td>\n",
       "      <td>4.00</td>\n",
       "      <td>1.73</td>\n",
       "      <td>3.40</td>\n",
       "      <td>4.20</td>\n",
       "    </tr>\n",
       "    <tr>\n",
       "      <th>1</th>\n",
       "      <td>2</td>\n",
       "      <td>1</td>\n",
       "      <td>1</td>\n",
       "      <td>2008/2009</td>\n",
       "      <td>1</td>\n",
       "      <td>2008-08-16 00:00:00</td>\n",
       "      <td>492474</td>\n",
       "      <td>10000</td>\n",
       "      <td>9994</td>\n",
       "      <td>0</td>\n",
       "      <td>...</td>\n",
       "      <td>3.80</td>\n",
       "      <td>2.00</td>\n",
       "      <td>3.25</td>\n",
       "      <td>3.25</td>\n",
       "      <td>1.85</td>\n",
       "      <td>3.25</td>\n",
       "      <td>3.75</td>\n",
       "      <td>1.91</td>\n",
       "      <td>3.25</td>\n",
       "      <td>3.60</td>\n",
       "    </tr>\n",
       "    <tr>\n",
       "      <th>2</th>\n",
       "      <td>3</td>\n",
       "      <td>1</td>\n",
       "      <td>1</td>\n",
       "      <td>2008/2009</td>\n",
       "      <td>1</td>\n",
       "      <td>2008-08-16 00:00:00</td>\n",
       "      <td>492475</td>\n",
       "      <td>9984</td>\n",
       "      <td>8635</td>\n",
       "      <td>0</td>\n",
       "      <td>...</td>\n",
       "      <td>2.50</td>\n",
       "      <td>2.35</td>\n",
       "      <td>3.25</td>\n",
       "      <td>2.65</td>\n",
       "      <td>2.50</td>\n",
       "      <td>3.20</td>\n",
       "      <td>2.50</td>\n",
       "      <td>2.30</td>\n",
       "      <td>3.20</td>\n",
       "      <td>2.75</td>\n",
       "    </tr>\n",
       "    <tr>\n",
       "      <th>3</th>\n",
       "      <td>4</td>\n",
       "      <td>1</td>\n",
       "      <td>1</td>\n",
       "      <td>2008/2009</td>\n",
       "      <td>1</td>\n",
       "      <td>2008-08-17 00:00:00</td>\n",
       "      <td>492476</td>\n",
       "      <td>9991</td>\n",
       "      <td>9998</td>\n",
       "      <td>5</td>\n",
       "      <td>...</td>\n",
       "      <td>7.50</td>\n",
       "      <td>1.45</td>\n",
       "      <td>3.75</td>\n",
       "      <td>6.50</td>\n",
       "      <td>1.50</td>\n",
       "      <td>3.75</td>\n",
       "      <td>5.50</td>\n",
       "      <td>1.44</td>\n",
       "      <td>3.75</td>\n",
       "      <td>6.50</td>\n",
       "    </tr>\n",
       "    <tr>\n",
       "      <th>4</th>\n",
       "      <td>5</td>\n",
       "      <td>1</td>\n",
       "      <td>1</td>\n",
       "      <td>2008/2009</td>\n",
       "      <td>1</td>\n",
       "      <td>2008-08-16 00:00:00</td>\n",
       "      <td>492477</td>\n",
       "      <td>7947</td>\n",
       "      <td>9985</td>\n",
       "      <td>1</td>\n",
       "      <td>...</td>\n",
       "      <td>1.73</td>\n",
       "      <td>4.50</td>\n",
       "      <td>3.40</td>\n",
       "      <td>1.65</td>\n",
       "      <td>4.50</td>\n",
       "      <td>3.50</td>\n",
       "      <td>1.65</td>\n",
       "      <td>4.75</td>\n",
       "      <td>3.30</td>\n",
       "      <td>1.67</td>\n",
       "    </tr>\n",
       "  </tbody>\n",
       "</table>\n",
       "<p>5 rows × 115 columns</p>\n",
       "</div>"
      ],
      "text/plain": [
       "   id  country_id  league_id     season  stage                 date  \\\n",
       "0   1           1          1  2008/2009      1  2008-08-17 00:00:00   \n",
       "1   2           1          1  2008/2009      1  2008-08-16 00:00:00   \n",
       "2   3           1          1  2008/2009      1  2008-08-16 00:00:00   \n",
       "3   4           1          1  2008/2009      1  2008-08-17 00:00:00   \n",
       "4   5           1          1  2008/2009      1  2008-08-16 00:00:00   \n",
       "\n",
       "   match_api_id  home_team_api_id  away_team_api_id  home_team_goal  ...  \\\n",
       "0        492473              9987              9993               1  ...   \n",
       "1        492474             10000              9994               0  ...   \n",
       "2        492475              9984              8635               0  ...   \n",
       "3        492476              9991              9998               5  ...   \n",
       "4        492477              7947              9985               1  ...   \n",
       "\n",
       "    SJA   VCH   VCD   VCA   GBH   GBD   GBA   BSH   BSD   BSA  \n",
       "0  4.00  1.65  3.40  4.50  1.78  3.25  4.00  1.73  3.40  4.20  \n",
       "1  3.80  2.00  3.25  3.25  1.85  3.25  3.75  1.91  3.25  3.60  \n",
       "2  2.50  2.35  3.25  2.65  2.50  3.20  2.50  2.30  3.20  2.75  \n",
       "3  7.50  1.45  3.75  6.50  1.50  3.75  5.50  1.44  3.75  6.50  \n",
       "4  1.73  4.50  3.40  1.65  4.50  3.50  1.65  4.75  3.30  1.67  \n",
       "\n",
       "[5 rows x 115 columns]"
      ]
     },
     "execution_count": 5,
     "metadata": {},
     "output_type": "execute_result"
    }
   ],
   "source": [
    "df_m.head()"
   ]
  },
  {
   "cell_type": "code",
   "execution_count": 6,
   "metadata": {},
   "outputs": [
    {
     "data": {
      "text/html": [
       "<div>\n",
       "<style scoped>\n",
       "    .dataframe tbody tr th:only-of-type {\n",
       "        vertical-align: middle;\n",
       "    }\n",
       "\n",
       "    .dataframe tbody tr th {\n",
       "        vertical-align: top;\n",
       "    }\n",
       "\n",
       "    .dataframe thead th {\n",
       "        text-align: right;\n",
       "    }\n",
       "</style>\n",
       "<table border=\"1\" class=\"dataframe\">\n",
       "  <thead>\n",
       "    <tr style=\"text-align: right;\">\n",
       "      <th></th>\n",
       "      <th>id</th>\n",
       "      <th>name</th>\n",
       "    </tr>\n",
       "  </thead>\n",
       "  <tbody>\n",
       "    <tr>\n",
       "      <th>0</th>\n",
       "      <td>1</td>\n",
       "      <td>Belgium</td>\n",
       "    </tr>\n",
       "    <tr>\n",
       "      <th>1</th>\n",
       "      <td>1729</td>\n",
       "      <td>England</td>\n",
       "    </tr>\n",
       "    <tr>\n",
       "      <th>2</th>\n",
       "      <td>4769</td>\n",
       "      <td>France</td>\n",
       "    </tr>\n",
       "    <tr>\n",
       "      <th>3</th>\n",
       "      <td>7809</td>\n",
       "      <td>Germany</td>\n",
       "    </tr>\n",
       "    <tr>\n",
       "      <th>4</th>\n",
       "      <td>10257</td>\n",
       "      <td>Italy</td>\n",
       "    </tr>\n",
       "  </tbody>\n",
       "</table>\n",
       "</div>"
      ],
      "text/plain": [
       "      id     name\n",
       "0      1  Belgium\n",
       "1   1729  England\n",
       "2   4769   France\n",
       "3   7809  Germany\n",
       "4  10257    Italy"
      ]
     },
     "execution_count": 6,
     "metadata": {},
     "output_type": "execute_result"
    }
   ],
   "source": [
    "df_c.head()"
   ]
  },
  {
   "cell_type": "code",
   "execution_count": 7,
   "metadata": {},
   "outputs": [
    {
     "data": {
      "text/html": [
       "<div>\n",
       "<style scoped>\n",
       "    .dataframe tbody tr th:only-of-type {\n",
       "        vertical-align: middle;\n",
       "    }\n",
       "\n",
       "    .dataframe tbody tr th {\n",
       "        vertical-align: top;\n",
       "    }\n",
       "\n",
       "    .dataframe thead th {\n",
       "        text-align: right;\n",
       "    }\n",
       "</style>\n",
       "<table border=\"1\" class=\"dataframe\">\n",
       "  <thead>\n",
       "    <tr style=\"text-align: right;\">\n",
       "      <th></th>\n",
       "      <th>id</th>\n",
       "      <th>country_id</th>\n",
       "      <th>name</th>\n",
       "    </tr>\n",
       "  </thead>\n",
       "  <tbody>\n",
       "    <tr>\n",
       "      <th>0</th>\n",
       "      <td>1</td>\n",
       "      <td>1</td>\n",
       "      <td>Belgium Jupiler League</td>\n",
       "    </tr>\n",
       "    <tr>\n",
       "      <th>1</th>\n",
       "      <td>1729</td>\n",
       "      <td>1729</td>\n",
       "      <td>England Premier League</td>\n",
       "    </tr>\n",
       "    <tr>\n",
       "      <th>2</th>\n",
       "      <td>4769</td>\n",
       "      <td>4769</td>\n",
       "      <td>France Ligue 1</td>\n",
       "    </tr>\n",
       "    <tr>\n",
       "      <th>3</th>\n",
       "      <td>7809</td>\n",
       "      <td>7809</td>\n",
       "      <td>Germany 1. Bundesliga</td>\n",
       "    </tr>\n",
       "    <tr>\n",
       "      <th>4</th>\n",
       "      <td>10257</td>\n",
       "      <td>10257</td>\n",
       "      <td>Italy Serie A</td>\n",
       "    </tr>\n",
       "  </tbody>\n",
       "</table>\n",
       "</div>"
      ],
      "text/plain": [
       "      id  country_id                    name\n",
       "0      1           1  Belgium Jupiler League\n",
       "1   1729        1729  England Premier League\n",
       "2   4769        4769          France Ligue 1\n",
       "3   7809        7809   Germany 1. Bundesliga\n",
       "4  10257       10257           Italy Serie A"
      ]
     },
     "execution_count": 7,
     "metadata": {},
     "output_type": "execute_result"
    }
   ],
   "source": [
    "df_l.head()"
   ]
  },
  {
   "cell_type": "code",
   "execution_count": 8,
   "metadata": {},
   "outputs": [
    {
     "data": {
      "text/html": [
       "<div>\n",
       "<style scoped>\n",
       "    .dataframe tbody tr th:only-of-type {\n",
       "        vertical-align: middle;\n",
       "    }\n",
       "\n",
       "    .dataframe tbody tr th {\n",
       "        vertical-align: top;\n",
       "    }\n",
       "\n",
       "    .dataframe thead th {\n",
       "        text-align: right;\n",
       "    }\n",
       "</style>\n",
       "<table border=\"1\" class=\"dataframe\">\n",
       "  <thead>\n",
       "    <tr style=\"text-align: right;\">\n",
       "      <th></th>\n",
       "      <th>id</th>\n",
       "      <th>team_api_id</th>\n",
       "      <th>team_fifa_api_id</th>\n",
       "      <th>team_long_name</th>\n",
       "      <th>team_short_name</th>\n",
       "    </tr>\n",
       "  </thead>\n",
       "  <tbody>\n",
       "    <tr>\n",
       "      <th>0</th>\n",
       "      <td>1</td>\n",
       "      <td>9987</td>\n",
       "      <td>673.0</td>\n",
       "      <td>KRC Genk</td>\n",
       "      <td>GEN</td>\n",
       "    </tr>\n",
       "    <tr>\n",
       "      <th>1</th>\n",
       "      <td>2</td>\n",
       "      <td>9993</td>\n",
       "      <td>675.0</td>\n",
       "      <td>Beerschot AC</td>\n",
       "      <td>BAC</td>\n",
       "    </tr>\n",
       "    <tr>\n",
       "      <th>2</th>\n",
       "      <td>3</td>\n",
       "      <td>10000</td>\n",
       "      <td>15005.0</td>\n",
       "      <td>SV Zulte-Waregem</td>\n",
       "      <td>ZUL</td>\n",
       "    </tr>\n",
       "    <tr>\n",
       "      <th>3</th>\n",
       "      <td>4</td>\n",
       "      <td>9994</td>\n",
       "      <td>2007.0</td>\n",
       "      <td>Sporting Lokeren</td>\n",
       "      <td>LOK</td>\n",
       "    </tr>\n",
       "    <tr>\n",
       "      <th>4</th>\n",
       "      <td>5</td>\n",
       "      <td>9984</td>\n",
       "      <td>1750.0</td>\n",
       "      <td>KSV Cercle Brugge</td>\n",
       "      <td>CEB</td>\n",
       "    </tr>\n",
       "  </tbody>\n",
       "</table>\n",
       "</div>"
      ],
      "text/plain": [
       "   id  team_api_id  team_fifa_api_id     team_long_name team_short_name\n",
       "0   1         9987             673.0           KRC Genk             GEN\n",
       "1   2         9993             675.0       Beerschot AC             BAC\n",
       "2   3        10000           15005.0   SV Zulte-Waregem             ZUL\n",
       "3   4         9994            2007.0   Sporting Lokeren             LOK\n",
       "4   5         9984            1750.0  KSV Cercle Brugge             CEB"
      ]
     },
     "execution_count": 8,
     "metadata": {},
     "output_type": "execute_result"
    }
   ],
   "source": [
    "df_t.head()"
   ]
  },
  {
   "cell_type": "code",
   "execution_count": 9,
   "metadata": {},
   "outputs": [
    {
     "data": {
      "text/html": [
       "<div>\n",
       "<style scoped>\n",
       "    .dataframe tbody tr th:only-of-type {\n",
       "        vertical-align: middle;\n",
       "    }\n",
       "\n",
       "    .dataframe tbody tr th {\n",
       "        vertical-align: top;\n",
       "    }\n",
       "\n",
       "    .dataframe thead th {\n",
       "        text-align: right;\n",
       "    }\n",
       "</style>\n",
       "<table border=\"1\" class=\"dataframe\">\n",
       "  <thead>\n",
       "    <tr style=\"text-align: right;\">\n",
       "      <th></th>\n",
       "      <th>id</th>\n",
       "      <th>player_api_id</th>\n",
       "      <th>player_name</th>\n",
       "      <th>player_fifa_api_id</th>\n",
       "      <th>birthday</th>\n",
       "      <th>height</th>\n",
       "      <th>weight</th>\n",
       "    </tr>\n",
       "  </thead>\n",
       "  <tbody>\n",
       "    <tr>\n",
       "      <th>0</th>\n",
       "      <td>1</td>\n",
       "      <td>505942</td>\n",
       "      <td>Aaron Appindangoye</td>\n",
       "      <td>218353</td>\n",
       "      <td>1992-02-29 00:00:00</td>\n",
       "      <td>182.88</td>\n",
       "      <td>187</td>\n",
       "    </tr>\n",
       "    <tr>\n",
       "      <th>1</th>\n",
       "      <td>2</td>\n",
       "      <td>155782</td>\n",
       "      <td>Aaron Cresswell</td>\n",
       "      <td>189615</td>\n",
       "      <td>1989-12-15 00:00:00</td>\n",
       "      <td>170.18</td>\n",
       "      <td>146</td>\n",
       "    </tr>\n",
       "    <tr>\n",
       "      <th>2</th>\n",
       "      <td>3</td>\n",
       "      <td>162549</td>\n",
       "      <td>Aaron Doran</td>\n",
       "      <td>186170</td>\n",
       "      <td>1991-05-13 00:00:00</td>\n",
       "      <td>170.18</td>\n",
       "      <td>163</td>\n",
       "    </tr>\n",
       "    <tr>\n",
       "      <th>3</th>\n",
       "      <td>4</td>\n",
       "      <td>30572</td>\n",
       "      <td>Aaron Galindo</td>\n",
       "      <td>140161</td>\n",
       "      <td>1982-05-08 00:00:00</td>\n",
       "      <td>182.88</td>\n",
       "      <td>198</td>\n",
       "    </tr>\n",
       "    <tr>\n",
       "      <th>4</th>\n",
       "      <td>5</td>\n",
       "      <td>23780</td>\n",
       "      <td>Aaron Hughes</td>\n",
       "      <td>17725</td>\n",
       "      <td>1979-11-08 00:00:00</td>\n",
       "      <td>182.88</td>\n",
       "      <td>154</td>\n",
       "    </tr>\n",
       "  </tbody>\n",
       "</table>\n",
       "</div>"
      ],
      "text/plain": [
       "   id  player_api_id         player_name  player_fifa_api_id  \\\n",
       "0   1         505942  Aaron Appindangoye              218353   \n",
       "1   2         155782     Aaron Cresswell              189615   \n",
       "2   3         162549         Aaron Doran              186170   \n",
       "3   4          30572       Aaron Galindo              140161   \n",
       "4   5          23780        Aaron Hughes               17725   \n",
       "\n",
       "              birthday  height  weight  \n",
       "0  1992-02-29 00:00:00  182.88     187  \n",
       "1  1989-12-15 00:00:00  170.18     146  \n",
       "2  1991-05-13 00:00:00  170.18     163  \n",
       "3  1982-05-08 00:00:00  182.88     198  \n",
       "4  1979-11-08 00:00:00  182.88     154  "
      ]
     },
     "execution_count": 9,
     "metadata": {},
     "output_type": "execute_result"
    }
   ],
   "source": [
    "df_p.head()"
   ]
  },
  {
   "cell_type": "code",
   "execution_count": 10,
   "metadata": {},
   "outputs": [
    {
     "data": {
      "text/plain": [
       "0"
      ]
     },
     "execution_count": 10,
     "metadata": {},
     "output_type": "execute_result"
    }
   ],
   "source": [
    "df_m.duplicated().sum()"
   ]
  },
  {
   "cell_type": "markdown",
   "metadata": {},
   "source": [
    "\n",
    "### Data Cleaning\n"
   ]
  },
  {
   "cell_type": "code",
   "execution_count": 11,
   "metadata": {},
   "outputs": [],
   "source": [
    "# After discussing the structure of the data and any problems that need to be\n",
    "#   cleaned, perform those cleaning steps in the second part of this section.\n"
   ]
  },
  {
   "cell_type": "code",
   "execution_count": 12,
   "metadata": {},
   "outputs": [],
   "source": [
    "#creating dicts of names and id\n",
    "country_names_dict=dict(zip(df_c.id,df_c.name))\n",
    "league_names_dict=dict(zip(df_l.country_id,df_l.name))\n",
    "teams_names_dict=dict(zip(df_t.team_api_id,df_t.team_long_name))\n",
    "players_names_dict=dict(zip(df_p.player_api_id,df_p.player_name))"
   ]
  },
  {
   "cell_type": "code",
   "execution_count": 13,
   "metadata": {},
   "outputs": [],
   "source": [
    "#replacing id with names function throw input dict of names and column to be replaced\n",
    "def names_and_id_replace(names_dict,col_to_be_replaced):\n",
    "    for key,value in names_dict.items(): #iterate throw dict_names\n",
    "        for i in col_to_be_replaced:\n",
    "            if i==key:\n",
    "                col_to_be_replaced.replace(to_replace=i,value=value,inplace=True)\n",
    "    return'done successfully'            "
   ]
  },
  {
   "cell_type": "code",
   "execution_count": 14,
   "metadata": {},
   "outputs": [
    {
     "data": {
      "text/plain": [
       "'done successfully'"
      ]
     },
     "execution_count": 14,
     "metadata": {},
     "output_type": "execute_result"
    }
   ],
   "source": [
    "#replacing country and league id in Match data frame with names\n",
    "names_and_id_replace(country_names_dict,df_m['country_id'])\n",
    "names_and_id_replace(league_names_dict,df_m['league_id'])"
   ]
  },
  {
   "cell_type": "code",
   "execution_count": 15,
   "metadata": {},
   "outputs": [],
   "source": [
    "#transform date column to date_time type and renaming replaced columns\n",
    "df_m['date']=pd.to_datetime(df_m['date'])\n",
    "df_m.rename(columns={'country_id':'country_name','league_id':'league_name'},inplace=True)\n"
   ]
  },
  {
   "cell_type": "code",
   "execution_count": 16,
   "metadata": {},
   "outputs": [
    {
     "data": {
      "text/plain": [
       "array(['Belgium Jupiler League', 'England Premier League',\n",
       "       'France Ligue 1', 'Germany 1. Bundesliga', 'Italy Serie A',\n",
       "       'Netherlands Eredivisie', 'Poland Ekstraklasa',\n",
       "       'Portugal Liga ZON Sagres', 'Scotland Premier League',\n",
       "       'Spain LIGA BBVA', 'Switzerland Super League'], dtype=object)"
      ]
     },
     "execution_count": 16,
     "metadata": {},
     "output_type": "execute_result"
    }
   ],
   "source": [
    "df_m['league_name'].unique()#check fo league names"
   ]
  },
  {
   "cell_type": "code",
   "execution_count": 17,
   "metadata": {},
   "outputs": [],
   "source": [
    "#create data frame for matches the top three leagues(La Liga,Premier League,Seria A)\n",
    "Premier_League=df_m.query('league_name==\"England Premier League\"')\n",
    "La_Liga=df_m.query('league_name==\"Spain LIGA BBVA\"')\n",
    "Seria_A=df_m.query('league_name==\"Italy Serie A\"')\n",
    "Ligue_1=df_m.query('league_name==\"France Ligue 1\"')\n",
    "try:#save Selected league in sql type to use them in functions later\n",
    "    Premier_League.to_sql('Premier_League',con=conn,index=False)\n",
    "    La_Liga.to_sql('La_Liga',con=conn,index=False)\n",
    "    Seria_A.to_sql('Seria_A',con=conn,index=False)\n",
    "    Ligue_1.to_sql('Ligue_1',con=conn,index=False)\n",
    "except:\n",
    "    0   "
   ]
  },
  {
   "cell_type": "code",
   "execution_count": 18,
   "metadata": {},
   "outputs": [],
   "source": [
    "def get_team_info(t_id,league) -> dict:#input team_id and league\n",
    "    # creating dict to collect data\n",
    "    team_info = {'team_id':t_id}\n",
    "    team_id = str(t_id)\n",
    "    \n",
    "    # Collecting all matches for team with given team_id \n",
    "    home_matches = pd.read_sql(f'SELECT * FROM {league} WHERE home_team_api_id = {team_id}', conn)\n",
    "    away_matches = pd.read_sql(f'SELECT * FROM {league} WHERE away_team_api_id = {team_id}', conn)\n",
    "    matches = pd.concat([home_matches, away_matches])\n",
    "    matches = matches.reset_index(drop=True)\n",
    "    \n",
    "    # getting win and lose and draws for each team :\n",
    "    team_info['home_wins'] = int(pd.read_sql(f'''\n",
    "    SELECT count(home_team_api_id) as cnt\n",
    "    FROM {league}\n",
    "    WHERE home_team_api_id = {team_id} and away_team_goal < home_team_goal\n",
    "    ''', conn)['cnt'])\n",
    "    \n",
    "    team_info['home_draws'] = int(pd.read_sql(f'''\n",
    "    SELECT count(home_team_api_id) as cnt\n",
    "    FROM {league}\n",
    "    WHERE home_team_api_id = {team_id} and away_team_goal = home_team_goal\n",
    "    ''', conn)['cnt'])\n",
    "    \n",
    "    team_info['home_loses'] = home_matches.shape[0] - team_info['home_draws'] - team_info['home_wins']\n",
    "    \n",
    "    team_info['away_wins'] = int(pd.read_sql(f'''\n",
    "    SELECT count(away_team_api_id) as cnt\n",
    "    FROM {league}\n",
    "    WHERE away_team_api_id = {team_id} and away_team_goal > home_team_goal\n",
    "    ''', conn)['cnt'])\n",
    "    \n",
    "    team_info['away_draws'] = int(pd.read_sql(f'''\n",
    "    SELECT count(away_team_api_id) as cnt\n",
    "    FROM {league}\n",
    "    WHERE away_team_api_id = {team_id} and away_team_goal = home_team_goal\n",
    "    ''', conn)['cnt'])\n",
    "    \n",
    "    team_info['away_loses'] = away_matches.shape[0] - team_info['away_draws'] - team_info['away_wins']\n",
    "    \n",
    "    return team_info"
   ]
  },
  {
   "cell_type": "code",
   "execution_count": 19,
   "metadata": {},
   "outputs": [],
   "source": [
    "#creating a dataframe with win,lose,draws,points and totals for each for league\n",
    "# ordered in total points \n",
    "def get_data_frame_league(leaguee):  \n",
    "    league__team_list=pd.read_sql(f'SELECT home_team_api_id FROM {leaguee}',con=conn)\n",
    "    \n",
    "    Total_league_stats=[] #getting total stats for each team un the league\n",
    "    for team in league__team_list.home_team_api_id.unique():#getting teams in league\n",
    "        Total_league_stats.append(get_team_info(team,f'{leaguee}'))\n",
    "        Total_league_stats\n",
    "    d_f=pd.DataFrame(Total_league_stats) #creating data frame from stats\n",
    "    names_and_id_replace(teams_names_dict,d_f['team_id'])   \n",
    "    d_f['total_wins']=d_f.home_wins+d_f.away_wins\n",
    "    d_f['total_loses']=d_f.home_loses+d_f.away_loses\n",
    "    d_f['total_draws']=d_f.home_draws+d_f.away_draws\n",
    "    d_f['total_points']=d_f.total_wins*3+d_f.total_draws*1\n",
    "#order the league by total points\n",
    "    return d_f.sort_values(by='total_points',ascending=False).reset_index(drop=True)\n"
   ]
  },
  {
   "cell_type": "code",
   "execution_count": 20,
   "metadata": {},
   "outputs": [],
   "source": [
    "#ITALY={'Seria_A_2015_2016':\"2015/2016\",'Seria_A_2014_2015':'2014/2015','Seria_A_2013_2014':'2013/2014','Seria_A_2011_2012':'2011/2012','Seria_A_2010_2011':'2010/2011','Seria_A_2009_2010':'2009/2010','Seria_A_2008_2009':'2008/2009','Seria_A_2007_2008':'2007/2008'}\n",
    "#reading all Seria A seasons\n",
    "Seria_A_2015_2016=pd.read_sql('SELECT * FROM Seria_A WHERE season=\"2015/2016\"',con=conn)\n",
    "Seria_A_2014_2015=pd.read_sql('SELECT * FROM Seria_A WHERE season=\"2014/2015\"',con=conn)\n",
    "Seria_A_2013_2014=pd.read_sql('SELECT * FROM Seria_A WHERE season=\"2013/2014\"',con=conn)\n",
    "Seria_A_2012_2013=pd.read_sql('SELECT * FROM Seria_A WHERE season=\"2012/2013\"',con=conn)\n",
    "Seria_A_2011_2012=pd.read_sql('SELECT * FROM Seria_A WHERE season=\"2011/2012\"',con=conn)\n",
    "Seria_A_2010_2011=pd.read_sql('SELECT * FROM Seria_A WHERE season=\"2010/2011\"',con=conn)\n",
    "Seria_A_2009_2010=pd.read_sql('SELECT * FROM Seria_A WHERE season=\"2009/2010\"',con=conn)\n",
    "Seria_A_2007_2008=pd.read_sql('SELECT * FROM Seria_A WHERE season=\"2007/2008\"',con=conn)\n",
    "Seria_A_2008_2009=pd.read_sql('SELECT * FROM Seria_A WHERE season=\"2008/2009\"',con=conn)\n"
   ]
  },
  {
   "cell_type": "code",
   "execution_count": 21,
   "metadata": {},
   "outputs": [],
   "source": [
    "#saving all Seria A seasons to sql to use them later\n",
    "try:\n",
    "    Seria_A_2015_2016.to_sql('Seria_A_2015_2016',con=conn,index=False)\n",
    "    Seria_A_2014_2015.to_sql('Seria_A_2014_2015',con=conn,index=False)\n",
    "    Seria_A_2013_2014.to_sql('Seria_A_2013_2014',con=conn,index=False)\n",
    "    Seria_A_2012_2013.to_sql('Seria_A_2012_2013',con=conn,index=False)\n",
    "    Seria_A_2011_2012.to_sql('Seria_A_2011_2012',con=conn,index=False)\n",
    "    Seria_A_2010_2011.to_sql('Seria_A_2010_2011',con=conn,index=False)\n",
    "    Seria_A_2009_2010.to_sql('Seria_A_2009_2010',con=conn,index=False)\n",
    "    Seria_A_2008_2009.to_sql('Seria_A_2008_2009',con=conn,index=False)\n",
    "    Seria_A_2007_2008.to_sql('Seria_A_2007_2008',con=conn,index=False)\n",
    "except:\n",
    "    0"
   ]
  },
  {
   "cell_type": "code",
   "execution_count": 22,
   "metadata": {},
   "outputs": [],
   "source": [
    "#creating data frame for Seria A seasons\n",
    "Italy_2015_2016=get_data_frame_league('Seria_A_2015_2016')\n",
    "Italy_2014_2015=get_data_frame_league('Seria_A_2014_2015')\n",
    "Italy_2013_2014=get_data_frame_league('Seria_A_2013_2014')\n",
    "Italy_2012_2013=get_data_frame_league('Seria_A_2012_2013')\n",
    "Italy_2011_2012=get_data_frame_league('Seria_A_2011_2012')\n",
    "Italy_2010_2011=get_data_frame_league('Seria_A_2010_2011')\n",
    "Italy_2009_2010=get_data_frame_league('Seria_A_2009_2010')\n",
    "Italy_2008_2009=get_data_frame_league(\"Seria_A_2008_2009\")"
   ]
  },
  {
   "cell_type": "code",
   "execution_count": 23,
   "metadata": {},
   "outputs": [],
   "source": [
    "#reading all Permier League seasons\n",
    "Premier_League_2015_2016=pd.read_sql('SELECT * FROM Premier_League WHERE season=\"2015/2016\"',con=conn)\n",
    "Premier_League_2014_2015=pd.read_sql('SELECT * FROM Premier_League WHERE season=\"2014/2015\"',con=conn)\n",
    "Premier_League_2013_2014=pd.read_sql('SELECT * FROM Premier_League WHERE season=\"2013/2014\"',con=conn)\n",
    "Premier_League_2012_2013=pd.read_sql('SELECT * FROM Premier_League WHERE season=\"2012/2013\"',con=conn)\n",
    "Premier_League_2011_2012=pd.read_sql('SELECT * FROM Premier_League WHERE season=\"2011/2012\"',con=conn)\n",
    "Premier_League_2010_2011=pd.read_sql('SELECT * FROM Premier_League WHERE season=\"2010/2011\"',con=conn)\n",
    "Premier_League_2009_2010=pd.read_sql('SELECT * FROM Premier_League WHERE season=\"2009/2010\"',con=conn)\n",
    "Premier_League_2008_2009=pd.read_sql('SELECT * FROM Premier_League WHERE season=\"2008/2009\"',con=conn)\n"
   ]
  },
  {
   "cell_type": "code",
   "execution_count": 24,
   "metadata": {},
   "outputs": [],
   "source": [
    "#saving all Premeir League seasons to sql to use them later\n",
    "try:\n",
    "    Premier_League_2015_2016.to_sql('Premier_League_2015_2016',con=conn,index=False)\n",
    "    Premier_League_2014_2015.to_sql('Premier_League_2014_2015',con=conn,index=False)\n",
    "    Premier_League_2013_2014.to_sql('Premier_League_2013_2014',con=conn,index=False)\n",
    "    Premier_League_2012_2013.to_sql('Premier_League_2012_2013',con=conn,index=False)\n",
    "    Premier_League_2011_2012.to_sql('Premier_League_2011_2012',con=conn,index=False)\n",
    "    Premier_League_2010_2011.to_sql('Premier_League_2010_2011',con=conn,index=False)\n",
    "    Premier_League_2009_2010.to_sql('Premier_League_2009_2010',con=conn,index=False)\n",
    "    Premier_League_2008_2009.to_sql('Premier_League_2008_2009',con=conn,index=False)\n",
    "except:\n",
    "    0"
   ]
  },
  {
   "cell_type": "code",
   "execution_count": 25,
   "metadata": {},
   "outputs": [],
   "source": [
    "#creating data frame for Premier league seasons\n",
    "England_2015_2016=get_data_frame_league('Premier_League_2015_2016')\n",
    "England_2014_2015=get_data_frame_league('Premier_League_2014_2015')\n",
    "England_2013_2014=get_data_frame_league('Premier_League_2013_2014')\n",
    "England_2012_2013=get_data_frame_league('Premier_League_2012_2013')\n",
    "England_2011_2012=get_data_frame_league('Premier_League_2011_2012')\n",
    "England_2010_2011=get_data_frame_league('Premier_League_2010_2011')\n",
    "England_2009_2010=get_data_frame_league('Premier_League_2009_2010')\n",
    "England_2008_2009=get_data_frame_league('Premier_League_2008_2009')\n"
   ]
  },
  {
   "cell_type": "code",
   "execution_count": 26,
   "metadata": {},
   "outputs": [],
   "source": [
    "#reading all LA Liga seasons\n",
    "Laliga_2015_2016=pd.read_sql('SELECT * FROM La_Liga WHERE season=\"2015/2016\"',con=conn)\n",
    "Laliga_2014_2015=pd.read_sql('SELECT * FROM La_Liga WHERE season=\"2014/2015\"',con=conn)\n",
    "Laliga_2013_2014=pd.read_sql('SELECT * FROM La_Liga WHERE season=\"2013/2014\"',con=conn)\n",
    "Laliga_2012_2013=pd.read_sql('SELECT * FROM La_Liga WHERE season=\"2012/2013\"',con=conn)\n",
    "Laliga_2011_2012=pd.read_sql('SELECT * FROM La_Liga WHERE season=\"2011/2012\"',con=conn)\n",
    "Laliga_2010_2011=pd.read_sql('SELECT * FROM La_Liga WHERE season=\"2010/2011\"',con=conn)\n",
    "Laliga_2009_2010=pd.read_sql('SELECT * FROM La_Liga WHERE season=\"2009/2010\"',con=conn)\n",
    "Laliga_2008_2009=pd.read_sql('SELECT * FROM La_Liga WHERE season=\"2008/2009\"',con=conn)"
   ]
  },
  {
   "cell_type": "code",
   "execution_count": 27,
   "metadata": {},
   "outputs": [],
   "source": [
    "#saving all La Liga seasons to sql to use them later\n",
    "try:\n",
    "    Laliga_2015_2016.to_sql('Laliga_2015_2016',con=conn,index=False)\n",
    "    Laliga_2014_2015.to_sql('Laliga_2014_2015',con=conn,index=False)\n",
    "    Laliga_2013_2014.to_sql('Laliga_2013_2014',con=conn,index=False)\n",
    "    Laliga_2012_2013.to_sql('Laliga_2012_2013',con=conn,index=False)\n",
    "    Laliga_2011_2012.to_sql('Laliga_2011_2012',con=conn,index=False)\n",
    "    Laliga_2010_2011.to_sql('Laliga_2010_2011',con=conn,index=False)\n",
    "    Laliga_2009_2010.to_sql('Laliga_2009_2010',con=conn,index=False)\n",
    "    Laliga_2008_2009.to_sql('Laliga_2008_2009',con=conn,index=False)\n",
    "except:\n",
    "    0    "
   ]
  },
  {
   "cell_type": "code",
   "execution_count": 28,
   "metadata": {},
   "outputs": [],
   "source": [
    "#creating data frame for La liga seasons\n",
    "Spain_2015_2016=get_data_frame_league(\"Laliga_2015_2016\")\n",
    "Spain_2014_2015=get_data_frame_league(\"Laliga_2014_2015\")\n",
    "Spain_2013_2014=get_data_frame_league(\"Laliga_2013_2014\")\n",
    "Spain_2012_2013=get_data_frame_league(\"Laliga_2012_2013\")\n",
    "Spain_2011_2012=get_data_frame_league(\"Laliga_2011_2012\")\n",
    "Spain_2010_2011=get_data_frame_league(\"Laliga_2010_2011\")\n",
    "Spain_2009_2010=get_data_frame_league(\"Laliga_2009_2010\")\n",
    "Spain_2008_2009=get_data_frame_league(\"Laliga_2008_2009\")"
   ]
  },
  {
   "cell_type": "markdown",
   "metadata": {},
   "source": [
    "<a id='eda'></a>\n",
    "## Exploratory Data Analysis\n",
    "\n",
    "\n",
    "\n",
    "\n",
    "### Research Question 1 (Is that True Premier League is more competitive than La Liga and Seria A?)"
   ]
  },
  {
   "cell_type": "markdown",
   "metadata": {},
   "source": [
    "### We Will Focus On The Comparing Between Premier League And La Liga\n",
    "####  measure competitivness by how close total points for each team to the mean by using STANDARD DEVIATION\n",
    "#### A low standard deviation indicates that the values tend to be close to the mean which means the gab between teams total points is smaller and small gab in total points means higher competition\n",
    "\n"
   ]
  },
  {
   "cell_type": "code",
   "execution_count": null,
   "metadata": {},
   "outputs": [],
   "source": []
  },
  {
   "cell_type": "code",
   "execution_count": 29,
   "metadata": {},
   "outputs": [],
   "source": [
    "#getting a list for standard deviation for total points each  country\n",
    "Std_Italy_all=[Italy_2015_2016.total_points.std(),Italy_2014_2015.total_points.std(),Italy_2013_2014.total_points.std(),Italy_2012_2013.total_points.std(),Italy_2011_2012.total_points.std(),Italy_2010_2011.total_points.std(),Italy_2009_2010.total_points.std(),Italy_2008_2009.total_points.std()]\n",
    "Std_England_All=[England_2015_2016.total_points.std(),England_2014_2015.total_points.std(),England_2013_2014.total_points.std(),England_2012_2013.total_points.std(),England_2011_2012.total_points.std(),England_2010_2011.total_points.std(),England_2009_2010.total_points.std(),England_2008_2009.total_points.std()]\n",
    "Std_Spain_All=[Spain_2015_2016.total_points.std(),Spain_2014_2015.total_points.std(),Spain_2013_2014.total_points.std(),Spain_2012_2013.total_points.std(),Spain_2011_2012.total_points.std(),Spain_2010_2011.total_points.std(),Spain_2009_2010.total_points.std(),Spain_2008_2009.total_points.std()]\n"
   ]
  },
  {
   "cell_type": "code",
   "execution_count": 30,
   "metadata": {},
   "outputs": [
    {
     "data": {
      "text/plain": [
       "Text(0.5,1,'measure competitiveness ')"
      ]
     },
     "execution_count": 30,
     "metadata": {},
     "output_type": "execute_result"
    },
    {
     "data": {
      "image/png": "[encoded data removed]",
      "text/plain": [
       "<matplotlib.figure.Figure at 0x7f162d3f95c0>"
      ]
     },
     "metadata": {
      "needs_background": "light"
     },
     "output_type": "display_data"
    }
   ],
   "source": [
    "#plotting the standard deviation for total points in each country\n",
    "fig, ax = plt.subplots()\n",
    "seasons=[0,'16/15','15/14','14/13','13/12','12/11','11/10','10/09','09/08']\n",
    "ax.set_xticklabels(seasons)\n",
    "plt.plot(Std_Italy_all)\n",
    "plt.plot(Std_England_All)\n",
    "plt.plot(Std_Spain_All)\n",
    "plt.legend(['Std_Italy_all','Std_England_All','Std_Spain_All'])\n",
    "plt.xlabel('season')\n",
    "plt.ylabel('std')\n",
    "plt.title('measure competitiveness ')"
   ]
  },
  {
   "cell_type": "code",
   "execution_count": 31,
   "metadata": {},
   "outputs": [
    {
     "data": {
      "text/plain": [
       "[16.069262437027305, 16.934904436103555, 17.69759194500665]"
      ]
     },
     "execution_count": 31,
     "metadata": {},
     "output_type": "execute_result"
    }
   ],
   "source": [
    "#calculating mean of std in each country\n",
    "Mean_Std_All=[np.average(Std_Italy_all),np.average(Std_England_All),np.average(Std_Spain_All)]\n",
    "Mean_Std_All"
   ]
  },
  {
   "cell_type": "markdown",
   "metadata": {},
   "source": [
    "#### As the mean for STD shows La Liga has more competitivness but that maybe not the whole story\n",
    "#### So we need  to divide the teams in league to three groups [top6,midtable,last6]\n",
    "#### The outlier for STD in Premier League in 2011/2010 season will be investigated "
   ]
  },
  {
   "cell_type": "code",
   "execution_count": 32,
   "metadata": {},
   "outputs": [],
   "source": [
    "#getting a list for standard deviation for total points each top 6 league\n",
    "Std_Italy_Top6=[Italy_2015_2016.iloc[:6].total_points.std(),Italy_2014_2015.iloc[:6].total_points.std(),Italy_2013_2014.iloc[:6].total_points.std(),Italy_2012_2013.iloc[:6].total_points.std(),Italy_2011_2012.iloc[:6].total_points.std(),Italy_2010_2011.iloc[:6].total_points.std(),Italy_2009_2010.iloc[:6].total_points.std(),Italy_2008_2009.iloc[:6].total_points.std()]\n",
    "Std_England_Top6=[England_2015_2016.iloc[:6].total_points.std(),England_2014_2015.iloc[:6].total_points.std(),England_2013_2014.iloc[:6].total_points.std(),England_2012_2013.iloc[:6].total_points.std(),England_2011_2012.iloc[:6].total_points.std(),England_2010_2011.iloc[:6].total_points.std(),England_2009_2010.iloc[:6].total_points.std(),England_2008_2009.iloc[:6].total_points.std()]\n",
    "Std_Spain_Top6=[Spain_2015_2016.iloc[:6].total_points.std(),Spain_2014_2015.iloc[:6].total_points.std(),Spain_2013_2014.iloc[:6].total_points.std(),Spain_2012_2013.iloc[:6].total_points.std(),Spain_2011_2012.iloc[:6].total_points.std(),Spain_2010_2011.iloc[:6].total_points.std(),Spain_2009_2010.iloc[:6].total_points.std(),Spain_2008_2009.iloc[:6].total_points.std()]\n"
   ]
  },
  {
   "cell_type": "code",
   "execution_count": 33,
   "metadata": {},
   "outputs": [
    {
     "data": {
      "text/plain": [
       "Text(0.5,1,'measure competitiveness ')"
      ]
     },
     "execution_count": 33,
     "metadata": {},
     "output_type": "execute_result"
    },
    {
     "data": {
      "image/png": "[encoded data removed]",
      "text/plain": [
       "<matplotlib.figure.Figure at 0x7f162cea5550>"
      ]
     },
     "metadata": {
      "needs_background": "light"
     },
     "output_type": "display_data"
    }
   ],
   "source": [
    "#plotting the standard deviation for total points top 6 in each country \n",
    "fig, ax = plt.subplots()\n",
    "seasons=[0,'16/15','15/14','14/13','13/12','12/11','11/10','10/09','09/08']\n",
    "ax.set_xticklabels(seasons)\n",
    "plt.plot(Std_Italy_Top6)\n",
    "plt.plot(Std_England_Top6)\n",
    "plt.plot(Std_Spain_Top6)\n",
    "plt.legend(['Std_Italy_Top6','Std_England_Top6','Std_Spain_Top6'])\n",
    "plt.xlabel('season')\n",
    "plt.ylabel('std')\n",
    "plt.title('measure competitiveness ')"
   ]
  },
  {
   "cell_type": "code",
   "execution_count": 34,
   "metadata": {},
   "outputs": [
    {
     "data": {
      "text/plain": [
       "[10.10172002828858, 8.966167039172074, 15.1819695067927]"
      ]
     },
     "execution_count": 34,
     "metadata": {},
     "output_type": "execute_result"
    }
   ],
   "source": [
    "#calculating mean of std in each country top 6\n",
    "Mean_Std_Top6=[np.average(Std_Italy_Top6),np.average(Std_England_Top6),np.average(Std_Spain_Top6)]\n",
    "Mean_Std_Top6"
   ]
  },
  {
   "cell_type": "markdown",
   "metadata": {},
   "source": [
    "#### Now We Can See That Premier League has A Lower STD Especially After 2008/2009 Season Which Means It has A Signficant Higher Competition Throw The Top 6 Teams And That Shows Why Premier League Is Called The Most Competitive League(Especially Compared to La Liga) As It's Expected That It's Much More Important To Have Competition In The Top Places In The Table Than In Midle Table Or The Back Of Table"
   ]
  },
  {
   "cell_type": "code",
   "execution_count": 35,
   "metadata": {},
   "outputs": [],
   "source": [
    "#getting the standard deviation for total points midtable teams(7:14) in each country \n",
    "Std_Italy_7to14=[Italy_2015_2016.iloc[6:14].total_points.std(),Italy_2014_2015.iloc[6:14].total_points.std(),Italy_2013_2014.iloc[6:14].total_points.std(),Italy_2012_2013.iloc[6:14].total_points.std(),Italy_2011_2012.iloc[6:14].total_points.std(),Italy_2010_2011.iloc[6:14].total_points.std(),Italy_2009_2010.iloc[6:14].total_points.std(),Italy_2008_2009.iloc[6:14].total_points.std()]\n",
    "Std_England_7to14=[England_2015_2016.iloc[6:14].total_points.std(),England_2014_2015.iloc[6:14].total_points.std(),England_2013_2014.iloc[6:14].total_points.std(),England_2012_2013.iloc[6:14].total_points.std(),England_2011_2012.iloc[6:14].total_points.std(),England_2010_2011.iloc[6:14].total_points.std(),England_2009_2010.iloc[6:14].total_points.std(),England_2008_2009.iloc[6:14].total_points.std()]\n",
    "Std_Spain_7to14=[Spain_2015_2016.iloc[6:14].total_points.std(),Spain_2014_2015.iloc[6:14].total_points.std(),Spain_2013_2014.iloc[6:14].total_points.std(),Spain_2012_2013.iloc[6:14].total_points.std(),Spain_2011_2012.iloc[6:14].total_points.std(),Spain_2010_2011.iloc[6:14].total_points.std(),Spain_2009_2010.iloc[6:14].total_points.std(),Spain_2008_2009.iloc[6:14].total_points.std()]\n"
   ]
  },
  {
   "cell_type": "code",
   "execution_count": 36,
   "metadata": {},
   "outputs": [
    {
     "data": {
      "text/plain": [
       "Text(0.5,1,'measure competitiveness ')"
      ]
     },
     "execution_count": 36,
     "metadata": {},
     "output_type": "execute_result"
    },
    {
     "data": {
      "image/png": "[encoded data removed]",
      "text/plain": [
       "<matplotlib.figure.Figure at 0x7f162c7fdc18>"
      ]
     },
     "metadata": {
      "needs_background": "light"
     },
     "output_type": "display_data"
    }
   ],
   "source": [
    "#plotting the standard deviation for total points midtable teams(7:14) in each country \n",
    "fig, ax = plt.subplots()\n",
    "seasons=[0,'16/15','15/14','14/13','13/12','12/11','11/10','10/09','09/08']\n",
    "ax.set_xticklabels(seasons)\n",
    "plt.plot(Std_Italy_7to14)\n",
    "plt.plot(Std_England_7to14)\n",
    "plt.plot(Std_Spain_7to14)\n",
    "plt.legend(['Std_Italy_midtabel','Std_England_midtabel','Std_Spain_midtabel'])\n",
    "plt.xlabel('season')\n",
    "plt.ylabel('std')\n",
    "plt.title('measure competitiveness ')"
   ]
  },
  {
   "cell_type": "code",
   "execution_count": 37,
   "metadata": {},
   "outputs": [
    {
     "data": {
      "text/plain": [
       "[5.215832231380927, 6.011093321291993, 4.657223799353622]"
      ]
     },
     "execution_count": 37,
     "metadata": {},
     "output_type": "execute_result"
    }
   ],
   "source": [
    "#getting mean standard deviation \n",
    "Mean_Std_7to14=[np.average(Std_Italy_7to14),np.average(Std_England_7to14),np.average(Std_Spain_7to14)]\n",
    "Mean_Std_7to14"
   ]
  },
  {
   "cell_type": "markdown",
   "metadata": {},
   "source": [
    "#### Graph And Mean STD For Midtable Teams Shows That La Liga and Seria A Have Less STD Than Premier League But Graph Shows Two Interesting  For Premier League In 2010/2011 Which Is Very Low And 2013/2014 and 2012/2013 Which Is Relatively High"
   ]
  },
  {
   "cell_type": "code",
   "execution_count": 38,
   "metadata": {},
   "outputs": [],
   "source": [
    "#investigating 2010/2011 and 2013/2014  seasons in Premier League\n"
   ]
  },
  {
   "cell_type": "code",
   "execution_count": 39,
   "metadata": {},
   "outputs": [
    {
     "data": {
      "text/plain": [
       "(6     54\n",
       " 7     49\n",
       " 8     48\n",
       " 9     47\n",
       " 10    47\n",
       " 11    46\n",
       " 12    46\n",
       " 13    46\n",
       " Name: total_points, dtype: int64, 2.6958963523950885)"
      ]
     },
     "execution_count": 39,
     "metadata": {},
     "output_type": "execute_result"
    }
   ],
   "source": [
    "England_2010_2011.total_points.iloc[6:14],England_2010_2011.total_points.iloc[6:14].std()"
   ]
  },
  {
   "cell_type": "markdown",
   "metadata": {},
   "source": [
    "#### In 2010/2011 The Results Shows A Very Unique Low STD And A Very High Competition in Midtable Teams"
   ]
  },
  {
   "cell_type": "code",
   "execution_count": 40,
   "metadata": {},
   "outputs": [
    {
     "data": {
      "text/html": [
       "<div>\n",
       "<style scoped>\n",
       "    .dataframe tbody tr th:only-of-type {\n",
       "        vertical-align: middle;\n",
       "    }\n",
       "\n",
       "    .dataframe tbody tr th {\n",
       "        vertical-align: top;\n",
       "    }\n",
       "\n",
       "    .dataframe thead th {\n",
       "        text-align: right;\n",
       "    }\n",
       "</style>\n",
       "<table border=\"1\" class=\"dataframe\">\n",
       "  <thead>\n",
       "    <tr style=\"text-align: right;\">\n",
       "      <th></th>\n",
       "      <th>team_id</th>\n",
       "      <th>home_wins</th>\n",
       "      <th>home_draws</th>\n",
       "      <th>home_loses</th>\n",
       "      <th>away_wins</th>\n",
       "      <th>away_draws</th>\n",
       "      <th>away_loses</th>\n",
       "      <th>total_wins</th>\n",
       "      <th>total_loses</th>\n",
       "      <th>total_draws</th>\n",
       "      <th>total_points</th>\n",
       "    </tr>\n",
       "  </thead>\n",
       "  <tbody>\n",
       "    <tr>\n",
       "      <th>6</th>\n",
       "      <td>Manchester United</td>\n",
       "      <td>9</td>\n",
       "      <td>3</td>\n",
       "      <td>7</td>\n",
       "      <td>10</td>\n",
       "      <td>4</td>\n",
       "      <td>5</td>\n",
       "      <td>19</td>\n",
       "      <td>12</td>\n",
       "      <td>7</td>\n",
       "      <td>64</td>\n",
       "    </tr>\n",
       "    <tr>\n",
       "      <th>7</th>\n",
       "      <td>Southampton</td>\n",
       "      <td>8</td>\n",
       "      <td>6</td>\n",
       "      <td>5</td>\n",
       "      <td>7</td>\n",
       "      <td>5</td>\n",
       "      <td>7</td>\n",
       "      <td>15</td>\n",
       "      <td>12</td>\n",
       "      <td>11</td>\n",
       "      <td>56</td>\n",
       "    </tr>\n",
       "    <tr>\n",
       "      <th>8</th>\n",
       "      <td>Stoke City</td>\n",
       "      <td>10</td>\n",
       "      <td>6</td>\n",
       "      <td>3</td>\n",
       "      <td>3</td>\n",
       "      <td>5</td>\n",
       "      <td>11</td>\n",
       "      <td>13</td>\n",
       "      <td>14</td>\n",
       "      <td>11</td>\n",
       "      <td>50</td>\n",
       "    </tr>\n",
       "    <tr>\n",
       "      <th>9</th>\n",
       "      <td>Newcastle United</td>\n",
       "      <td>8</td>\n",
       "      <td>3</td>\n",
       "      <td>8</td>\n",
       "      <td>7</td>\n",
       "      <td>1</td>\n",
       "      <td>11</td>\n",
       "      <td>15</td>\n",
       "      <td>19</td>\n",
       "      <td>4</td>\n",
       "      <td>49</td>\n",
       "    </tr>\n",
       "    <tr>\n",
       "      <th>10</th>\n",
       "      <td>Crystal Palace</td>\n",
       "      <td>8</td>\n",
       "      <td>3</td>\n",
       "      <td>8</td>\n",
       "      <td>5</td>\n",
       "      <td>3</td>\n",
       "      <td>11</td>\n",
       "      <td>13</td>\n",
       "      <td>19</td>\n",
       "      <td>6</td>\n",
       "      <td>45</td>\n",
       "    </tr>\n",
       "    <tr>\n",
       "      <th>11</th>\n",
       "      <td>Swansea City</td>\n",
       "      <td>6</td>\n",
       "      <td>5</td>\n",
       "      <td>8</td>\n",
       "      <td>5</td>\n",
       "      <td>4</td>\n",
       "      <td>10</td>\n",
       "      <td>11</td>\n",
       "      <td>18</td>\n",
       "      <td>9</td>\n",
       "      <td>42</td>\n",
       "    </tr>\n",
       "    <tr>\n",
       "      <th>12</th>\n",
       "      <td>West Ham United</td>\n",
       "      <td>7</td>\n",
       "      <td>3</td>\n",
       "      <td>9</td>\n",
       "      <td>4</td>\n",
       "      <td>4</td>\n",
       "      <td>11</td>\n",
       "      <td>11</td>\n",
       "      <td>20</td>\n",
       "      <td>7</td>\n",
       "      <td>40</td>\n",
       "    </tr>\n",
       "    <tr>\n",
       "      <th>13</th>\n",
       "      <td>Sunderland</td>\n",
       "      <td>5</td>\n",
       "      <td>3</td>\n",
       "      <td>11</td>\n",
       "      <td>5</td>\n",
       "      <td>5</td>\n",
       "      <td>9</td>\n",
       "      <td>10</td>\n",
       "      <td>20</td>\n",
       "      <td>8</td>\n",
       "      <td>38</td>\n",
       "    </tr>\n",
       "  </tbody>\n",
       "</table>\n",
       "</div>"
      ],
      "text/plain": [
       "              team_id  home_wins  home_draws  home_loses  away_wins  \\\n",
       "6   Manchester United          9           3           7         10   \n",
       "7         Southampton          8           6           5          7   \n",
       "8          Stoke City         10           6           3          3   \n",
       "9    Newcastle United          8           3           8          7   \n",
       "10     Crystal Palace          8           3           8          5   \n",
       "11       Swansea City          6           5           8          5   \n",
       "12    West Ham United          7           3           9          4   \n",
       "13         Sunderland          5           3          11          5   \n",
       "\n",
       "    away_draws  away_loses  total_wins  total_loses  total_draws  total_points  \n",
       "6            4           5          19           12            7            64  \n",
       "7            5           7          15           12           11            56  \n",
       "8            5          11          13           14           11            50  \n",
       "9            1          11          15           19            4            49  \n",
       "10           3          11          13           19            6            45  \n",
       "11           4          10          11           18            9            42  \n",
       "12           4          11          11           20            7            40  \n",
       "13           5           9          10           20            8            38  "
      ]
     },
     "execution_count": 40,
     "metadata": {},
     "output_type": "execute_result"
    }
   ],
   "source": [
    "England_2013_2014.iloc[6:14]"
   ]
  },
  {
   "cell_type": "code",
   "execution_count": 41,
   "metadata": {},
   "outputs": [
    {
     "data": {
      "text/html": [
       "<div>\n",
       "<style scoped>\n",
       "    .dataframe tbody tr th:only-of-type {\n",
       "        vertical-align: middle;\n",
       "    }\n",
       "\n",
       "    .dataframe tbody tr th {\n",
       "        vertical-align: top;\n",
       "    }\n",
       "\n",
       "    .dataframe thead th {\n",
       "        text-align: right;\n",
       "    }\n",
       "</style>\n",
       "<table border=\"1\" class=\"dataframe\">\n",
       "  <thead>\n",
       "    <tr style=\"text-align: right;\">\n",
       "      <th></th>\n",
       "      <th>team_id</th>\n",
       "      <th>home_wins</th>\n",
       "      <th>home_draws</th>\n",
       "      <th>home_loses</th>\n",
       "      <th>away_wins</th>\n",
       "      <th>away_draws</th>\n",
       "      <th>away_loses</th>\n",
       "      <th>total_wins</th>\n",
       "      <th>total_loses</th>\n",
       "      <th>total_draws</th>\n",
       "      <th>total_points</th>\n",
       "    </tr>\n",
       "  </thead>\n",
       "  <tbody>\n",
       "    <tr>\n",
       "      <th>6</th>\n",
       "      <td>Liverpool</td>\n",
       "      <td>9</td>\n",
       "      <td>6</td>\n",
       "      <td>4</td>\n",
       "      <td>7</td>\n",
       "      <td>7</td>\n",
       "      <td>5</td>\n",
       "      <td>16</td>\n",
       "      <td>9</td>\n",
       "      <td>13</td>\n",
       "      <td>61</td>\n",
       "    </tr>\n",
       "    <tr>\n",
       "      <th>7</th>\n",
       "      <td>West Bromwich Albion</td>\n",
       "      <td>9</td>\n",
       "      <td>4</td>\n",
       "      <td>6</td>\n",
       "      <td>5</td>\n",
       "      <td>3</td>\n",
       "      <td>11</td>\n",
       "      <td>14</td>\n",
       "      <td>17</td>\n",
       "      <td>7</td>\n",
       "      <td>49</td>\n",
       "    </tr>\n",
       "    <tr>\n",
       "      <th>8</th>\n",
       "      <td>West Ham United</td>\n",
       "      <td>9</td>\n",
       "      <td>6</td>\n",
       "      <td>4</td>\n",
       "      <td>3</td>\n",
       "      <td>4</td>\n",
       "      <td>12</td>\n",
       "      <td>12</td>\n",
       "      <td>16</td>\n",
       "      <td>10</td>\n",
       "      <td>46</td>\n",
       "    </tr>\n",
       "    <tr>\n",
       "      <th>9</th>\n",
       "      <td>Swansea City</td>\n",
       "      <td>6</td>\n",
       "      <td>8</td>\n",
       "      <td>5</td>\n",
       "      <td>5</td>\n",
       "      <td>5</td>\n",
       "      <td>9</td>\n",
       "      <td>11</td>\n",
       "      <td>14</td>\n",
       "      <td>13</td>\n",
       "      <td>46</td>\n",
       "    </tr>\n",
       "    <tr>\n",
       "      <th>10</th>\n",
       "      <td>Norwich City</td>\n",
       "      <td>8</td>\n",
       "      <td>7</td>\n",
       "      <td>4</td>\n",
       "      <td>2</td>\n",
       "      <td>7</td>\n",
       "      <td>10</td>\n",
       "      <td>10</td>\n",
       "      <td>14</td>\n",
       "      <td>14</td>\n",
       "      <td>44</td>\n",
       "    </tr>\n",
       "    <tr>\n",
       "      <th>11</th>\n",
       "      <td>Fulham</td>\n",
       "      <td>7</td>\n",
       "      <td>3</td>\n",
       "      <td>9</td>\n",
       "      <td>4</td>\n",
       "      <td>7</td>\n",
       "      <td>8</td>\n",
       "      <td>11</td>\n",
       "      <td>17</td>\n",
       "      <td>10</td>\n",
       "      <td>43</td>\n",
       "    </tr>\n",
       "    <tr>\n",
       "      <th>12</th>\n",
       "      <td>Stoke City</td>\n",
       "      <td>7</td>\n",
       "      <td>7</td>\n",
       "      <td>5</td>\n",
       "      <td>2</td>\n",
       "      <td>8</td>\n",
       "      <td>9</td>\n",
       "      <td>9</td>\n",
       "      <td>14</td>\n",
       "      <td>15</td>\n",
       "      <td>42</td>\n",
       "    </tr>\n",
       "    <tr>\n",
       "      <th>13</th>\n",
       "      <td>Newcastle United</td>\n",
       "      <td>9</td>\n",
       "      <td>1</td>\n",
       "      <td>9</td>\n",
       "      <td>2</td>\n",
       "      <td>7</td>\n",
       "      <td>10</td>\n",
       "      <td>11</td>\n",
       "      <td>19</td>\n",
       "      <td>8</td>\n",
       "      <td>41</td>\n",
       "    </tr>\n",
       "  </tbody>\n",
       "</table>\n",
       "</div>"
      ],
      "text/plain": [
       "                 team_id  home_wins  home_draws  home_loses  away_wins  \\\n",
       "6              Liverpool          9           6           4          7   \n",
       "7   West Bromwich Albion          9           4           6          5   \n",
       "8        West Ham United          9           6           4          3   \n",
       "9           Swansea City          6           8           5          5   \n",
       "10          Norwich City          8           7           4          2   \n",
       "11                Fulham          7           3           9          4   \n",
       "12            Stoke City          7           7           5          2   \n",
       "13      Newcastle United          9           1           9          2   \n",
       "\n",
       "    away_draws  away_loses  total_wins  total_loses  total_draws  total_points  \n",
       "6            7           5          16            9           13            61  \n",
       "7            3          11          14           17            7            49  \n",
       "8            4          12          12           16           10            46  \n",
       "9            5           9          11           14           13            46  \n",
       "10           7          10          10           14           14            44  \n",
       "11           7           8          11           17           10            43  \n",
       "12           8           9           9           14           15            42  \n",
       "13           7          10          11           19            8            41  "
      ]
     },
     "execution_count": 41,
     "metadata": {},
     "output_type": "execute_result"
    }
   ],
   "source": [
    "England_2012_2013.iloc[6:14]"
   ]
  },
  {
   "cell_type": "markdown",
   "metadata": {},
   "source": [
    "#### The Previous Results Shows Why There Was A Significant Raise In STD AS In Both Season The First Teams In Midtable Were Liverpool And Manchester United Two Of The Biggest Teams In England And Both Were Had A Relatively Higher Total Points Than Other Teams In Mid Table And If We Assumed Premier League Have Top 7 teams Not Only Top 6 Then STD Will Be Relativley Low In Midtable Teams [8:14]"
   ]
  },
  {
   "cell_type": "code",
   "execution_count": 42,
   "metadata": {},
   "outputs": [],
   "source": [
    "# getting the standard deviation for total points top 7 in each country\n",
    "Std_Italy_Top7=[Italy_2015_2016.iloc[:7].total_points.std(),Italy_2014_2015.iloc[:7].total_points.std(),Italy_2013_2014.iloc[:7].total_points.std(),Italy_2012_2013.iloc[:7].total_points.std(),Italy_2011_2012.iloc[:7].total_points.std(),Italy_2010_2011.iloc[:7].total_points.std(),Italy_2009_2010.iloc[:7].total_points.std(),Italy_2008_2009.iloc[:7].total_points.std()]\n",
    "Std_England_Top7=[England_2015_2016.iloc[:7].total_points.std(),England_2014_2015.iloc[:7].total_points.std(),England_2013_2014.iloc[:7].total_points.std(),England_2012_2013.iloc[:7].total_points.std(),England_2011_2012.iloc[:7].total_points.std(),England_2010_2011.iloc[:7].total_points.std(),England_2009_2010.iloc[:7].total_points.std(),England_2008_2009.iloc[:7].total_points.std()]\n",
    "Std_Spain_Top7=[Spain_2015_2016.iloc[:7].total_points.std(),Spain_2014_2015.iloc[:7].total_points.std(),Spain_2013_2014.iloc[:7].total_points.std(),Spain_2012_2013.iloc[:7].total_points.std(),Spain_2011_2012.iloc[:7].total_points.std(),Spain_2010_2011.iloc[:7].total_points.std(),Spain_2009_2010.iloc[:7].total_points.std(),Spain_2008_2009.iloc[:7].total_points.std()]\n"
   ]
  },
  {
   "cell_type": "code",
   "execution_count": 43,
   "metadata": {},
   "outputs": [
    {
     "data": {
      "text/plain": [
       "Text(0.5,1,'measure competitiveness ')"
      ]
     },
     "execution_count": 43,
     "metadata": {},
     "output_type": "execute_result"
    },
    {
     "data": {
      "image/png": "[encoded data removed]",
      "text/plain": [
       "<matplotlib.figure.Figure at 0x7f162c2ae668>"
      ]
     },
     "metadata": {
      "needs_background": "light"
     },
     "output_type": "display_data"
    }
   ],
   "source": [
    "# plotting the standard deviation for total points top 7 in each country\n",
    "fig, ax = plt.subplots()\n",
    "seasons=[0,'16/15','15/14','14/13','13/12','12/11','11/10','10/09','09/08']\n",
    "ax.set_xticklabels(seasons)\n",
    "plt.plot(Std_Italy_Top7)\n",
    "plt.plot(Std_England_Top7)\n",
    "plt.plot(Std_Spain_Top7)\n",
    "plt.legend(['Std_Italy_Top7','Std_England_Top7','Std_Spain_Top7'])\n",
    "plt.xlabel('season')\n",
    "plt.ylabel('std')\n",
    "plt.title('measure competitiveness ')"
   ]
  },
  {
   "cell_type": "code",
   "execution_count": 44,
   "metadata": {},
   "outputs": [
    {
     "data": {
      "text/plain": [
       "[10.637212021970885, 9.891704303176699, 15.61560584716667]"
      ]
     },
     "execution_count": 44,
     "metadata": {},
     "output_type": "execute_result"
    }
   ],
   "source": [
    "Mean_Std_Top7=[np.average(Std_Italy_Top7),np.average(Std_England_Top7),np.average(Std_Spain_Top7)]\n",
    "Mean_Std_Top7"
   ]
  },
  {
   "cell_type": "code",
   "execution_count": 45,
   "metadata": {},
   "outputs": [
    {
     "data": {
      "text/plain": [
       "[10.10172002828858, 8.966167039172074, 15.1819695067927]"
      ]
     },
     "execution_count": 45,
     "metadata": {},
     "output_type": "execute_result"
    }
   ],
   "source": [
    "Mean_Std_Top6"
   ]
  },
  {
   "cell_type": "markdown",
   "metadata": {},
   "source": [
    "#### For A Top7 Analysis STD is Slightely Higher than Top 6 but Premier League Still The Lowest Which Means The Premier League Maintaines A Higher Upper Table Teams Competition For Up To 7 Teams(Especially The First Top 6)"
   ]
  },
  {
   "cell_type": "code",
   "execution_count": 46,
   "metadata": {},
   "outputs": [],
   "source": [
    "# getting the standard deviation for total points last 6 in each country  \n",
    "Std_Italy_Last6=[Italy_2015_2016.iloc[14:].total_points.std(),Italy_2014_2015.iloc[14:].total_points.std(),Italy_2013_2014.iloc[14:].total_points.std(),Italy_2012_2013.iloc[14:].total_points.std(),Italy_2011_2012.iloc[14:].total_points.std(),Italy_2010_2011.iloc[14:].total_points.std(),Italy_2009_2010.iloc[14:].total_points.std(),Italy_2008_2009.iloc[14:].total_points.std()]\n",
    "Std_England_Last6=[England_2015_2016.iloc[14:].total_points.std(),England_2014_2015.iloc[14:].total_points.std(),England_2013_2014.iloc[14:].total_points.std(),England_2012_2013.iloc[14:].total_points.std(),England_2011_2012.iloc[14:].total_points.std(),England_2010_2011.iloc[14:].total_points.std(),England_2009_2010.iloc[14:].total_points.std(),England_2008_2009.iloc[14:].total_points.std()]\n",
    "Std_Spain_Last6=[Spain_2015_2016.iloc[14:].total_points.std(),Spain_2014_2015.iloc[14:].total_points.std(),Spain_2013_2014.iloc[14:].total_points.std(),Spain_2012_2013.iloc[14:].total_points.std(),Spain_2011_2012.iloc[14:].total_points.std(),Spain_2010_2011.iloc[14:].total_points.std(),Spain_2009_2010.iloc[14:].total_points.std(),Spain_2008_2009.iloc[14:].total_points.std()]\n"
   ]
  },
  {
   "cell_type": "code",
   "execution_count": 47,
   "metadata": {},
   "outputs": [
    {
     "data": {
      "text/plain": [
       "Text(0.5,1,'measure competitiveness ')"
      ]
     },
     "execution_count": 47,
     "metadata": {},
     "output_type": "execute_result"
    },
    {
     "data": {
      "image/png": "[encoded data removed]",
      "text/plain": [
       "<matplotlib.figure.Figure at 0x7f162e4b7f60>"
      ]
     },
     "metadata": {
      "needs_background": "light"
     },
     "output_type": "display_data"
    }
   ],
   "source": [
    "# plotting the standard deviation for total points last 6 in each country\n",
    "fig, ax = plt.subplots()\n",
    "seasons=[0,'16/15','15/14','14/13','13/12','12/11','11/10','10/09','09/08']\n",
    "ax.set_xticklabels(seasons)\n",
    "plt.plot(Std_Italy_Last6)\n",
    "plt.plot(Std_England_Last6)\n",
    "plt.plot(Std_Spain_Last6)\n",
    "plt.legend(['Std_Italy_Last6','Std_England_Last6','Std_Spain_Last6'])\n",
    "plt.xlabel('season')\n",
    "plt.ylabel('std')\n",
    "plt.title('measure competitiveness ')"
   ]
  },
  {
   "cell_type": "code",
   "execution_count": 48,
   "metadata": {},
   "outputs": [
    {
     "data": {
      "text/plain": [
       "[6.5173108384034, 5.007160833708673, 4.705840396160976]"
      ]
     },
     "execution_count": 48,
     "metadata": {},
     "output_type": "execute_result"
    }
   ],
   "source": [
    "Mean_Std_Last6=[np.average(Std_Italy_Last6),np.average(Std_England_Last6),np.average(Std_Spain_Last6)]\n",
    "Mean_Std_Last6"
   ]
  },
  {
   "cell_type": "markdown",
   "metadata": {},
   "source": [
    "#### For The Last 6 Teams Seria A has The Lowest STD And Premier League Has Lower STD Than La Liga\n",
    "#### And There Is Outlier In STD For Last 6 Teams In Premier League In Season 2015/2016"
   ]
  },
  {
   "cell_type": "code",
   "execution_count": 49,
   "metadata": {},
   "outputs": [
    {
     "data": {
      "text/html": [
       "<div>\n",
       "<style scoped>\n",
       "    .dataframe tbody tr th:only-of-type {\n",
       "        vertical-align: middle;\n",
       "    }\n",
       "\n",
       "    .dataframe tbody tr th {\n",
       "        vertical-align: top;\n",
       "    }\n",
       "\n",
       "    .dataframe thead th {\n",
       "        text-align: right;\n",
       "    }\n",
       "</style>\n",
       "<table border=\"1\" class=\"dataframe\">\n",
       "  <thead>\n",
       "    <tr style=\"text-align: right;\">\n",
       "      <th></th>\n",
       "      <th>team_id</th>\n",
       "      <th>home_wins</th>\n",
       "      <th>home_draws</th>\n",
       "      <th>home_loses</th>\n",
       "      <th>away_wins</th>\n",
       "      <th>away_draws</th>\n",
       "      <th>away_loses</th>\n",
       "      <th>total_wins</th>\n",
       "      <th>total_loses</th>\n",
       "      <th>total_draws</th>\n",
       "      <th>total_points</th>\n",
       "    </tr>\n",
       "  </thead>\n",
       "  <tbody>\n",
       "    <tr>\n",
       "      <th>14</th>\n",
       "      <td>Crystal Palace</td>\n",
       "      <td>6</td>\n",
       "      <td>3</td>\n",
       "      <td>10</td>\n",
       "      <td>5</td>\n",
       "      <td>6</td>\n",
       "      <td>8</td>\n",
       "      <td>11</td>\n",
       "      <td>18</td>\n",
       "      <td>9</td>\n",
       "      <td>42</td>\n",
       "    </tr>\n",
       "    <tr>\n",
       "      <th>15</th>\n",
       "      <td>Bournemouth</td>\n",
       "      <td>5</td>\n",
       "      <td>5</td>\n",
       "      <td>9</td>\n",
       "      <td>6</td>\n",
       "      <td>4</td>\n",
       "      <td>9</td>\n",
       "      <td>11</td>\n",
       "      <td>18</td>\n",
       "      <td>9</td>\n",
       "      <td>42</td>\n",
       "    </tr>\n",
       "    <tr>\n",
       "      <th>16</th>\n",
       "      <td>Sunderland</td>\n",
       "      <td>6</td>\n",
       "      <td>6</td>\n",
       "      <td>7</td>\n",
       "      <td>3</td>\n",
       "      <td>6</td>\n",
       "      <td>10</td>\n",
       "      <td>9</td>\n",
       "      <td>17</td>\n",
       "      <td>12</td>\n",
       "      <td>39</td>\n",
       "    </tr>\n",
       "    <tr>\n",
       "      <th>17</th>\n",
       "      <td>Newcastle United</td>\n",
       "      <td>7</td>\n",
       "      <td>7</td>\n",
       "      <td>5</td>\n",
       "      <td>2</td>\n",
       "      <td>3</td>\n",
       "      <td>14</td>\n",
       "      <td>9</td>\n",
       "      <td>19</td>\n",
       "      <td>10</td>\n",
       "      <td>37</td>\n",
       "    </tr>\n",
       "    <tr>\n",
       "      <th>18</th>\n",
       "      <td>Norwich City</td>\n",
       "      <td>6</td>\n",
       "      <td>5</td>\n",
       "      <td>8</td>\n",
       "      <td>3</td>\n",
       "      <td>2</td>\n",
       "      <td>14</td>\n",
       "      <td>9</td>\n",
       "      <td>22</td>\n",
       "      <td>7</td>\n",
       "      <td>34</td>\n",
       "    </tr>\n",
       "    <tr>\n",
       "      <th>19</th>\n",
       "      <td>Aston Villa</td>\n",
       "      <td>2</td>\n",
       "      <td>5</td>\n",
       "      <td>12</td>\n",
       "      <td>1</td>\n",
       "      <td>3</td>\n",
       "      <td>15</td>\n",
       "      <td>3</td>\n",
       "      <td>27</td>\n",
       "      <td>8</td>\n",
       "      <td>17</td>\n",
       "    </tr>\n",
       "  </tbody>\n",
       "</table>\n",
       "</div>"
      ],
      "text/plain": [
       "             team_id  home_wins  home_draws  home_loses  away_wins  \\\n",
       "14    Crystal Palace          6           3          10          5   \n",
       "15       Bournemouth          5           5           9          6   \n",
       "16        Sunderland          6           6           7          3   \n",
       "17  Newcastle United          7           7           5          2   \n",
       "18      Norwich City          6           5           8          3   \n",
       "19       Aston Villa          2           5          12          1   \n",
       "\n",
       "    away_draws  away_loses  total_wins  total_loses  total_draws  total_points  \n",
       "14           6           8          11           18            9            42  \n",
       "15           4           9          11           18            9            42  \n",
       "16           6          10           9           17           12            39  \n",
       "17           3          14           9           19           10            37  \n",
       "18           2          14           9           22            7            34  \n",
       "19           3          15           3           27            8            17  "
      ]
     },
     "execution_count": 49,
     "metadata": {},
     "output_type": "execute_result"
    }
   ],
   "source": [
    "#investigating the out lier in premier league 2015/2016\n",
    "England_2015_2016.iloc[14:]"
   ]
  },
  {
   "cell_type": "markdown",
   "metadata": {},
   "source": [
    "#### Table Shows Why There Is Outlier In Last 6 Teams In Premier League As Team 'Aston Ville' Had A Very Low Total Points Compared To The Last 6 Teams"
   ]
  },
  {
   "cell_type": "code",
   "execution_count": null,
   "metadata": {},
   "outputs": [],
   "source": []
  },
  {
   "cell_type": "markdown",
   "metadata": {},
   "source": [
    "### Research Question 2  (What Is The Time Graph For Goals In League? And Has It A Unique Pattern?)"
   ]
  },
  {
   "cell_type": "code",
   "execution_count": 50,
   "metadata": {},
   "outputs": [],
   "source": [
    "# getting match stats like goals, and assist and timing of goal\n",
    "def get_events_stats(event_type, match):\n",
    "    if pd.isna(match[event_type]):\n",
    "        #make sure match has event(goal,card,shoton,...)\n",
    "     \n",
    "        return 0\n",
    "    else:#extracting data from event column\n",
    "        try:\n",
    "            events_list = xmltodict.parse(match[event_type])[event_type]['value']\n",
    "        except:\n",
    "            return 0\n",
    "    #counter for both teams and their events\n",
    "    home_team_stats = {'team_id':match['home_team_api_id'], f'total_team_{event_type}':0}\n",
    "    away_team_stats = {'team_id':match['away_team_api_id'], f'total_team_{event_type}':0}\n",
    "    player_goals = {}  # { player_id: num }\n",
    "    player_assist = {}  # { player_id: num }\n",
    "    goal_time_type={}  #{time_of_goal:type_of_goal}\n",
    "    \n",
    "\n",
    "    # Run through the list of events (goals, moments near football goals, yellow/red cards)    \n",
    "    if type(events_list) == list:\n",
    "        for event in events_list:\n",
    "            # Get necessary id from event info ('event' variable is a dict)\n",
    "            try:\n",
    "                player1_id = int(event['player1'])\n",
    "            except:\n",
    "                player1_id = 0\n",
    "            if event_type == 'goal':\n",
    "                player2_id = int(event.get('player2', 0))\n",
    "                goal_type=event.get('goal_type')\n",
    "                time=int(event.get('elapsed',0))\n",
    "            try:\n",
    "                team = int(event['team'])\n",
    "            except:\n",
    "                team = 0\n",
    "            \n",
    "            # Add one to counter of team results\n",
    "            if team == home_team_stats['team_id']:\n",
    "                home_team_stats[f'total_team_{event_type}'] += 1\n",
    "            elif team == away_team_stats['team_id']:\n",
    "                away_team_stats[f'total_team_{event_type}'] += 1\n",
    "            \n",
    "            # If we iterate through the goals --> count stats for every player\n",
    "            if event_type == 'goal':\n",
    "                player_assist[player2_id] = player_assist.get(player2_id, 0) + 1\n",
    "                player_goals[player1_id] = player_goals.get(player1_id, 0) + 1\n",
    "                goal_time_type[time]=goal_type\n",
    "    # If current event type has only one event        \n",
    "    elif type(events_list) == dict:\n",
    "        # All the same as in a loop above\n",
    "        try:\n",
    "            player1_id = int(events_list['player1'])\n",
    "        except:\n",
    "            player1_id = 0\n",
    "        if event_type == 'goal':\n",
    "            player2_id = int(events_list.get('player2', 0))\n",
    "            time=int(events_list.get('elapsed',0))\n",
    "            goal_type=events_list.get('goal_type')\n",
    "        try:\n",
    "            team = int(events_list['team'])\n",
    "        except:\n",
    "            team = 0\n",
    "        \n",
    "        if team == home_team_stats['team_id']:\n",
    "            home_team_stats[f'total_team_{event_type}'] += 1\n",
    "        elif team == away_team_stats['team_id']:\n",
    "            away_team_stats[f'total_team_{event_type}'] += 1\n",
    "        \n",
    "        if event_type == 'goal':\n",
    "            player_assist[player2_id] = player_assist.get(player2_id, 0) + 1\n",
    "            player_goals[player1_id] = player_goals.get(player1_id, 0) + 1\n",
    "            goal_time_type[time]=goal_type\n",
    "        \n",
    "    # Results:\n",
    "    if event_type == 'goal':\n",
    "        return player_goals, player_assist,goal_time_type\n",
    "    else:\n",
    "        return home_team_stats, away_team_stats, player_goals"
   ]
  },
  {
   "cell_type": "code",
   "execution_count": 51,
   "metadata": {},
   "outputs": [],
   "source": [
    "def sum_dicts(dict_1, dict_2) -> dict:  # Function for merging two dicts and sum values of intersected keys\n",
    "    return {\n",
    "        key: dict_1.get(key, 0) + dict_2.get(key, 0) for key in set(dict_1) | set(dict_2)\n",
    "    }\n"
   ]
  },
  {
   "cell_type": "code",
   "execution_count": 52,
   "metadata": {},
   "outputs": [],
   "source": [
    "def goal_time_league_graph(league):#getting graph for goal timing in league\n",
    "    time_type=[]\n",
    "    for index , tm in league.iterrows():#iterate throw league rows\n",
    "           goals_time=get_events_stats('goal',tm)\n",
    "           if goals_time:\n",
    "               g_italy,a_italy,time=goals_time\n",
    "               time_type.append(time)  \n",
    "    df_time1=pd.DataFrame(time_type)\n",
    "    df_time=df_time1.T.sort_index()#creating data frame for goal timing \n",
    "    #reverse index with head column and order index ascending\n",
    "    \n",
    "    plt.xlabel('time(minute)')\n",
    "    plt.ylabel('number of goals')\n",
    "    plt.title('Time_distribution')\n",
    "    \n",
    "    \n",
    "    return plt.plot(df_time.T.count())\n",
    "        #plot count of goals throw each minute\n",
    "    \n",
    "      "
   ]
  },
  {
   "cell_type": "code",
   "execution_count": 53,
   "metadata": {},
   "outputs": [
    {
     "data": {
      "text/plain": [
       "([<matplotlib.lines.Line2D at 0x7f162c2e09e8>],\n",
       " [<matplotlib.lines.Line2D at 0x7f162d352828>],\n",
       " [<matplotlib.lines.Line2D at 0x7f162d30a358>])"
      ]
     },
     "execution_count": 53,
     "metadata": {},
     "output_type": "execute_result"
    },
    {
     "data": {
      "image/png": "[encoded data removed]",
      "text/plain": [
       "<matplotlib.figure.Figure at 0x7f162dd7f668>"
      ]
     },
     "metadata": {
      "needs_background": "light"
     },
     "output_type": "display_data"
    }
   ],
   "source": [
    "#graph for seasons 2015/2016 , 2014/2015 , 2013/2014 for la liga\n",
    "goal_time_league_graph(Laliga_2015_2016,),goal_time_league_graph(Laliga_2014_2015,),goal_time_league_graph(Laliga_2013_2014,)"
   ]
  },
  {
   "cell_type": "markdown",
   "metadata": {},
   "source": [
    "#### For Seansons 2015/2016 , 2014/2015 , 2013/2014 In La Liga We Can Notice That A Higher Number Of Goals Scored In +85 Minute And A Slightley High Goal Scoring In The End Of First Half(45 Min)"
   ]
  },
  {
   "cell_type": "code",
   "execution_count": 54,
   "metadata": {},
   "outputs": [
    {
     "data": {
      "text/plain": [
       "([<matplotlib.lines.Line2D at 0x7f162e5a1c50>],\n",
       " [<matplotlib.lines.Line2D at 0x7f162c2f8860>],\n",
       " [<matplotlib.lines.Line2D at 0x7f162c33e5f8>])"
      ]
     },
     "execution_count": 54,
     "metadata": {},
     "output_type": "execute_result"
    },
    {
     "data": {
      "image/png": "[encoded data removed]",
      "text/plain": [
       "<matplotlib.figure.Figure at 0x7f162c2f84a8>"
      ]
     },
     "metadata": {
      "needs_background": "light"
     },
     "output_type": "display_data"
    }
   ],
   "source": [
    "#graph for seasons 2015/2016 , 2014/2015 , 2013/2014 for premier league\n",
    "goal_time_league_graph(Premier_League_2015_2016),goal_time_league_graph(Premier_League_2014_2015),goal_time_league_graph(Premier_League_2013_2014)"
   ]
  },
  {
   "cell_type": "markdown",
   "metadata": {},
   "source": [
    "#### For Seansons 2015/2016 , 2014/2015 , 2013/2014 InPremier League We Can Notice That A Higher Number Of Goals Scored In +85 Minute(As La Liga) And A Relativley High Goal Scoring In The End Of First Half(45 Min)"
   ]
  },
  {
   "cell_type": "code",
   "execution_count": 55,
   "metadata": {},
   "outputs": [
    {
     "data": {
      "text/plain": [
       "([<matplotlib.lines.Line2D at 0x7f162e393ac8>],\n",
       " [<matplotlib.lines.Line2D at 0x7f162c363048>],\n",
       " [<matplotlib.lines.Line2D at 0x7f162c308080>])"
      ]
     },
     "execution_count": 55,
     "metadata": {},
     "output_type": "execute_result"
    },
    {
     "data": {
      "image/png": "[encoded data removed]",
      "text/plain": [
       "<matplotlib.figure.Figure at 0x7f162c308c18>"
      ]
     },
     "metadata": {
      "needs_background": "light"
     },
     "output_type": "display_data"
    }
   ],
   "source": [
    "#graph for seasons 2015/2016 , 2014/2015 , 2013/2014 for seria a\n",
    "goal_time_league_graph(Seria_A_2015_2016),goal_time_league_graph(Seria_A_2014_2015),goal_time_league_graph(Seria_A_2013_2014)"
   ]
  },
  {
   "cell_type": "markdown",
   "metadata": {},
   "source": [
    "#### #### For Seansons 2015/2016 , 2014/2015 , 2013/2014 In Seria A We Can Notice That A Higher Number Of Goals Scored In +85 Minute(As La Liga) And A Relativley High(Higher Than La Liga But Lower ThanPremier League) Goal Scoring In The End Of First Half(45 Min)"
   ]
  },
  {
   "cell_type": "markdown",
   "metadata": {},
   "source": [
    "#### Therefor  All Premier League , La Liga and Seria A Teams In The Three Seasons Have A High Goal Scoring In The Last Minutes of The Match And A High Goal Scoring In The Last Minute Of First Half(Much Higher For Premier League , High For Seria A  And Slightley High For La Liga But LA Liga Has A Slightley Higher Goal Scoring Throw The Rest Of Minutes"
   ]
  },
  {
   "cell_type": "code",
   "execution_count": null,
   "metadata": {},
   "outputs": [],
   "source": []
  },
  {
   "cell_type": "markdown",
   "metadata": {},
   "source": [
    "### Research Question 3  (What Is The Time Graph For Goals For A Specific Team ? And Has It A Unique Pattern?And Would It Differ If Match Was Home Or Away)"
   ]
  },
  {
   "cell_type": "code",
   "execution_count": 56,
   "metadata": {},
   "outputs": [],
   "source": [
    "\n",
    "#getting goal_time and goal_type for one team\n",
    "def goal_time_team_stats( match ,team_id):\n",
    "    if pd.isna(match['goal']):#ensure match has goal data\n",
    "        return 0\n",
    "    else:#getting data from column \n",
    "        try:\n",
    "            events_list = xmltodict.parse(match['goal'])['goal']['value']\n",
    "        except:\n",
    "            return 0\n",
    "      \n",
    "    goal_time_type={}#{goal time :goal type}\n",
    "    \n",
    "    if type(events_list) == list:\n",
    "        for event in events_list: #itterate throw goal\n",
    "            try:\n",
    "                team = int(event['team'])\n",
    "            except:\n",
    "                 0\n",
    "            if team==team_id :\n",
    "               goal_type=event.get('goal_type')\n",
    "               time=int(event.get('elapsed',0))#time for goal\n",
    "               goal_time_type[time]=goal_type\n",
    "               \n",
    "    elif type(events_list) == dict:#same as previous loop but for single value  \n",
    "        try:\n",
    "            team = int(events_list['team'])\n",
    "        except:\n",
    "             0\n",
    "        if team==team_id :\n",
    "               goal_type=events_list.get('goal_type')\n",
    "               time=int(events_list.get('elapsed',0))\n",
    "               goal_time_type[time]=goal_type\n",
    "        \n",
    "    return goal_time_type\n",
    "    "
   ]
  },
  {
   "cell_type": "code",
   "execution_count": 57,
   "metadata": {},
   "outputs": [],
   "source": [
    "def goal_time_team_graph(league,team_id,team_pos):#get goal_time histogram \n",
    "\n",
    "    team_type_time=[]\n",
    "    if team_pos=='home and away': #for both home and away matches for team\n",
    "        for index , tm in league.query(f'home_team_api_id=={team_id} or  away_team_api_id=={team_id}').iterrows():\n",
    "            team_type_time.append(goal_time_team_stats(tm,team_id))\n",
    "    elif team_pos=='home': #for only home matches for team\n",
    "        for index , tm in league.query(f'home_team_api_id=={team_id}').iterrows():\n",
    "            team_type_time.append(goal_time_team_stats(tm,team_id))\n",
    "    elif team_pos=='away': #for only away matches for team\n",
    "        for index , tm in league.query(f'away_team_api_id=={team_id}').iterrows():\n",
    "            team_type_time.append(goal_time_team_stats(tm,team_id))                \n",
    "    team_time=[]\n",
    "    for i in team_type_time:#getting goal_time from the dict\n",
    "         if i!=0:\n",
    "           for s in i.items():\n",
    "               team_time.append(s)    \n",
    "    team=pd.DataFrame(team_time,columns=['time_of_goal','goal_type'])   \n",
    "\n",
    "    plt.xlabel('time of goal')\n",
    "    plt.ylabel('number of goals')\n",
    "\n",
    "    return plt.hist(team.time_of_goal,alpha=0.7)     #plotting histogram for team goal  "
   ]
  },
  {
   "cell_type": "code",
   "execution_count": 58,
   "metadata": {},
   "outputs": [
    {
     "data": {
      "text/plain": [
       "((array([10.,  9.,  5.,  3., 13.,  6.,  6.,  6.,  5.,  8.]),\n",
       "  array([ 2. , 10.8, 19.6, 28.4, 37.2, 46. , 54.8, 63.6, 72.4, 81.2, 90. ]),\n",
       "  <a list of 10 Patch objects>),\n",
       " (array([ 4.,  6.,  5.,  5.,  1.,  2.,  2.,  2.,  2., 10.]),\n",
       "  array([ 7. , 15.3, 23.6, 31.9, 40.2, 48.5, 56.8, 65.1, 73.4, 81.7, 90. ]),\n",
       "  <a list of 10 Patch objects>))"
      ]
     },
     "execution_count": 58,
     "metadata": {},
     "output_type": "execute_result"
    },
    {
     "data": {
      "image/png": "[encoded data removed]",
      "text/plain": [
       "<matplotlib.figure.Figure at 0x7f162e5c4eb8>"
      ]
     },
     "metadata": {
      "needs_background": "light"
     },
     "output_type": "display_data"
    }
   ],
   "source": [
    "# REAL MADRID in 2015/2016 Season\n",
    "#REAL MADRID DETACHED HOME AND AWAY GOAL TIME HISTOGRAM\n",
    "fig, ax = plt.subplots(figsize =(8,6))\n",
    "\n",
    "goal_time_team_graph(Laliga_2015_2016,8633,'home'),goal_time_team_graph(Laliga_2015_2016,8633,'away')"
   ]
  },
  {
   "cell_type": "code",
   "execution_count": 59,
   "metadata": {},
   "outputs": [
    {
     "data": {
      "text/plain": [
       "(array([14., 12., 11.,  9., 15.,  8.,  8.,  8.,  7., 18.]),\n",
       " array([ 2. , 10.8, 19.6, 28.4, 37.2, 46. , 54.8, 63.6, 72.4, 81.2, 90. ]),\n",
       " <a list of 10 Patch objects>)"
      ]
     },
     "execution_count": 59,
     "metadata": {},
     "output_type": "execute_result"
    },
    {
     "data": {
      "image/png": "[encoded data removed]",
      "text/plain": [
       "<matplotlib.figure.Figure at 0x7f162e25add8>"
      ]
     },
     "metadata": {
      "needs_background": "light"
     },
     "output_type": "display_data"
    }
   ],
   "source": [
    "#REAL MADRID COMBINED HOME AND AWAY GOAL TIME HISTOGRAM\n",
    "fig, ax = plt.subplots(figsize =(8,6))\n",
    "goal_time_team_graph(Laliga_2015_2016,8633,'home and away')\n"
   ]
  },
  {
   "cell_type": "markdown",
   "metadata": {},
   "source": [
    "#### For Real Madrid Goal Detached Home And Away Time Histogram Shows That In Home Matches Scores More Goals In First 20 Min , Last 5 Min From The First Half And (80:90)Minute\n",
    "#### In Away Matches Real Madrid Scores A Higher Goals In The Last 10 Min (Even Higher Than Home Matches)\n",
    "#### For Overall Goal Time Histogram Real Madrid Has A High Goal Scoring In The Last 10 Minutes ,First 10 Minutes And Last 5 Minute In First Half"
   ]
  },
  {
   "cell_type": "code",
   "execution_count": 60,
   "metadata": {},
   "outputs": [
    {
     "data": {
      "text/plain": [
       "((array([ 7.,  4.,  7.,  6.,  5.,  7., 10.,  5.,  7., 12.]),\n",
       "  array([ 7. , 15.3, 23.6, 31.9, 40.2, 48.5, 56.8, 65.1, 73.4, 81.7, 90. ]),\n",
       "  <a list of 10 Patch objects>),\n",
       " (array([3., 2., 6., 3., 5., 7., 5., 4., 9., 4.]),\n",
       "  array([ 2. , 10.8, 19.6, 28.4, 37.2, 46. , 54.8, 63.6, 72.4, 81.2, 90. ]),\n",
       "  <a list of 10 Patch objects>))"
      ]
     },
     "execution_count": 60,
     "metadata": {},
     "output_type": "execute_result"
    },
    {
     "data": {
      "image/png": "[encoded data removed]",
      "text/plain": [
       "<matplotlib.figure.Figure at 0x7f162c344748>"
      ]
     },
     "metadata": {
      "needs_background": "light"
     },
     "output_type": "display_data"
    }
   ],
   "source": [
    "# Barcelona in 2015/2016 Season\n",
    "#Barcelona DETACHED HOME AND AWAY GOAL TIME HISTOGRAM\n",
    "fig, ax = plt.subplots(figsize =(8,6))\n",
    "\n",
    "goal_time_team_graph(Laliga_2015_2016,8634,'home'),goal_time_team_graph(Laliga_2015_2016,8634,'away')"
   ]
  },
  {
   "cell_type": "code",
   "execution_count": 61,
   "metadata": {},
   "outputs": [
    {
     "data": {
      "text/plain": [
       "(array([ 6.,  7., 12., 10.,  9., 16., 16., 10., 16., 16.]),\n",
       " array([ 2. , 10.8, 19.6, 28.4, 37.2, 46. , 54.8, 63.6, 72.4, 81.2, 90. ]),\n",
       " <a list of 10 Patch objects>)"
      ]
     },
     "execution_count": 61,
     "metadata": {},
     "output_type": "execute_result"
    },
    {
     "data": {
      "image/png": "[encoded data removed]",
      "text/plain": [
       "<matplotlib.figure.Figure at 0x7f162e32c0f0>"
      ]
     },
     "metadata": {
      "needs_background": "light"
     },
     "output_type": "display_data"
    }
   ],
   "source": [
    "#Barcelona COMBINED HOME AND AWAY GOAL TIME HISTOGRAM\n",
    "fig, ax = plt.subplots(figsize =(8,6))\n",
    "goal_time_team_graph(Laliga_2015_2016,8634,'home and away')\n"
   ]
  },
  {
   "cell_type": "markdown",
   "metadata": {},
   "source": [
    "#### For Barcelona Goal Detached Home And Away Time Histogram Shows That In Home Matches Scores More Goals In+85 Min Min  And (55:65)Minute\n",
    "#### In Away Matches BarcelonaScores A Higher Goals In ( 70 :80)Minute And Low Goal Scoring In The Last 10 Minutes\n",
    "#### Over All Barca Has A High Scoring Goals In First 15 Minute In Second Half (45:60) And Last 15 Minute In The Same Half"
   ]
  },
  {
   "cell_type": "code",
   "execution_count": null,
   "metadata": {},
   "outputs": [],
   "source": []
  },
  {
   "cell_type": "code",
   "execution_count": 62,
   "metadata": {},
   "outputs": [
    {
     "data": {
      "text/plain": [
       "((array([ 3.,  7., 10.,  4.,  7.,  8.,  4.,  4.,  5.,  3.]),\n",
       "  array([ 1. ,  9.7, 18.4, 27.1, 35.8, 44.5, 53.2, 61.9, 70.6, 79.3, 88. ]),\n",
       "  <a list of 10 Patch objects>),\n",
       " (array([ 6.,  5.,  4.,  4.,  6.,  3.,  3.,  4.,  3., 10.]),\n",
       "  array([ 3. , 11.7, 20.4, 29.1, 37.8, 46.5, 55.2, 63.9, 72.6, 81.3, 90. ]),\n",
       "  <a list of 10 Patch objects>))"
      ]
     },
     "execution_count": 62,
     "metadata": {},
     "output_type": "execute_result"
    },
    {
     "data": {
      "image/png": "[encoded data removed]",
      "text/plain": [
       "<matplotlib.figure.Figure at 0x7f162dd3fdd8>"
      ]
     },
     "metadata": {
      "needs_background": "light"
     },
     "output_type": "display_data"
    }
   ],
   "source": [
    "# Liverpool in 2013/2014 Season\n",
    "#Liverpool DETACHED HOME AND AWAY GOAL TIME HISTOGRAM\n",
    "fig, ax = plt.subplots(figsize =(8,6))\n",
    "\n",
    "goal_time_team_graph(Premier_League_2013_2014,8650,'home'),goal_time_team_graph(Premier_League_2013_2014,8650,'away')"
   ]
  },
  {
   "cell_type": "code",
   "execution_count": 63,
   "metadata": {},
   "outputs": [
    {
     "data": {
      "text/plain": [
       "(array([ 8., 12., 14., 11., 12., 10.,  9.,  6.,  9., 12.]),\n",
       " array([ 1. ,  9.9, 18.8, 27.7, 36.6, 45.5, 54.4, 63.3, 72.2, 81.1, 90. ]),\n",
       " <a list of 10 Patch objects>)"
      ]
     },
     "execution_count": 63,
     "metadata": {},
     "output_type": "execute_result"
    },
    {
     "data": {
      "image/png": "[encoded data removed]",
      "text/plain": [
       "<matplotlib.figure.Figure at 0x7f162d8ae080>"
      ]
     },
     "metadata": {
      "needs_background": "light"
     },
     "output_type": "display_data"
    }
   ],
   "source": [
    "#Barcelona COMBINED HOME AND AWAY GOAL TIME HISTOGRAM\n",
    "fig, ax = plt.subplots(figsize =(8,6))\n",
    "goal_time_team_graph(Premier_League_2013_2014,8650,'home and away')\n"
   ]
  },
  {
   "cell_type": "markdown",
   "metadata": {},
   "source": [
    "#### For Liverpool Goal Detached Home And Away Time Histogram Shows That In Home Matches Scores More Goals In (10 :30) Minute  And (35:55)Minute\n",
    "#### In Away Matches LiverpoolScores A Significant Higher Goals In The Last 10 Min (Much Higher Than Home Matches)\n",
    "#### For Overall Goal Time Histogram Liverpool Has A Goal Distrbiution For A higher Than 8 Goals In All Sections Of The Match Except From(60:75)"
   ]
  },
  {
   "cell_type": "code",
   "execution_count": null,
   "metadata": {},
   "outputs": [],
   "source": []
  },
  {
   "cell_type": "code",
   "execution_count": 64,
   "metadata": {},
   "outputs": [
    {
     "data": {
      "text/plain": [
       "((array([ 6.,  5.,  3.,  4.,  7.,  7.,  3.,  7.,  5., 11.]),\n",
       "  array([ 1. ,  9.9, 18.8, 27.7, 36.6, 45.5, 54.4, 63.3, 72.2, 81.1, 90. ]),\n",
       "  <a list of 10 Patch objects>),\n",
       " (array([4., 6., 3., 0., 4., 6., 4., 2., 4., 7.]),\n",
       "  array([ 1. ,  9.9, 18.8, 27.7, 36.6, 45.5, 54.4, 63.3, 72.2, 81.1, 90. ]),\n",
       "  <a list of 10 Patch objects>))"
      ]
     },
     "execution_count": 64,
     "metadata": {},
     "output_type": "execute_result"
    },
    {
     "data": {
      "image/png": "[encoded data removed]",
      "text/plain": [
       "<matplotlib.figure.Figure at 0x7f162d3896d8>"
      ]
     },
     "metadata": {
      "needs_background": "light"
     },
     "output_type": "display_data"
    }
   ],
   "source": [
    "# ManCity in 2013/2014 Season\n",
    "#ManCity DETACHED HOME AND AWAY GOAL TIME HISTOGRAM\n",
    "fig, ax = plt.subplots(figsize =(8,6))\n",
    "\n",
    "goal_time_team_graph(Premier_League_2013_2014,8456,'home'),goal_time_team_graph(Premier_League_2013_2014,8456,'away')"
   ]
  },
  {
   "cell_type": "code",
   "execution_count": 65,
   "metadata": {},
   "outputs": [
    {
     "data": {
      "text/plain": [
       "(array([10., 11.,  6.,  4., 11., 13.,  7.,  9.,  9., 18.]),\n",
       " array([ 1. ,  9.9, 18.8, 27.7, 36.6, 45.5, 54.4, 63.3, 72.2, 81.1, 90. ]),\n",
       " <a list of 10 Patch objects>)"
      ]
     },
     "execution_count": 65,
     "metadata": {},
     "output_type": "execute_result"
    },
    {
     "data": {
      "image/png": "[encoded data removed]",
      "text/plain": [
       "<matplotlib.figure.Figure at 0x7f162c261198>"
      ]
     },
     "metadata": {
      "needs_background": "light"
     },
     "output_type": "display_data"
    }
   ],
   "source": [
    "#ManCity COMBINED HOME AND AWAY GOAL TIME HISTOGRAM\n",
    "fig, ax = plt.subplots(figsize =(8,6))\n",
    "goal_time_team_graph(Premier_League_2013_2014,8456,'home and away')\n"
   ]
  },
  {
   "cell_type": "markdown",
   "metadata": {},
   "source": [
    "#### For ManCity Goal Detached Home And Away Time Histogram Shows That In Home Matches Scores More Goals In first 20 Minute   ,(35:55)Minute And The Last 5 Minutes Of The Match\n",
    "#### In Away Matches ManCity Scores A Higher Goals In The Last 5 Minutes(But Less Than Home Matches)\n",
    "#### For Overall Goal Time Histogram ManCity Has A High Goal Scoring In First 20 Minutes,(38:55)Minute And The Last 5 Minutes"
   ]
  },
  {
   "cell_type": "code",
   "execution_count": null,
   "metadata": {},
   "outputs": [],
   "source": []
  },
  {
   "cell_type": "markdown",
   "metadata": {},
   "source": [
    "<a id='conclusions'></a>\n",
    "## Conclusions\n",
    "\n",
    "#### Premier League Has A Higher Competition Than La Liga Especially In The Top6 Places Of The League\n",
    "#### All Premier League , La Liga and Seria A Teams In The Three Seasons Have A High Goal Scoring In The Last Minutes of The Match And A High Goal Scoring In The Last Minute Of First Half(Much Higher For Premier League , High For Seria A  And Slightley High For La Liga But LA Liga Has A Slightley Higher Goal Scoring Throw The Rest Of Minutes\n",
    "#### Every team Has A Pattern For Scoring Goals Minutes \n",
    "\n",
    "## Submitting your Project \n",
    "\n",
    "> **Tip**: Before you submit your project, you need to create a .html or .pdf version of this notebook in the workspace here. To do that, run the code cell below. If it worked correctly, you should get a return code of 0, and you should see the generated .html file in the workspace directory (click on the orange Jupyter icon in the upper left).\n",
    "\n",
    "> **Tip**: Alternatively, you can download this report as .html via the **File** > **Download as** submenu, and then manually upload it into the workspace directory by clicking on the orange Jupyter icon in the upper left, then using the Upload button.\n",
    "\n",
    "> **Tip**: Once you've done this, you can submit your project by clicking on the \"Submit Project\" button in the lower right here. This will create and submit a zip file with this .ipynb doc and the .html or .pdf version you created. Congratulations!"
   ]
  },
  {
   "cell_type": "code",
   "execution_count": 66,
   "metadata": {},
   "outputs": [
    {
     "data": {
      "text/plain": [
       "0"
      ]
     },
     "execution_count": 66,
     "metadata": {},
     "output_type": "execute_result"
    }
   ],
   "source": [
    "from subprocess import call\n",
    "call(['python', '-m', 'nbconvert', 'Investigate_a_Dataset.ipynb'])"
   ]
  }
 ],
 "metadata": {
  "kernelspec": {
   "display_name": "Python 3",
   "language": "python",
   "name": "python3"
  },
  "language_info": {
   "codemirror_mode": {
    "name": "ipython",
    "version": 3
   },
   "file_extension": ".py",
   "mimetype": "text/x-python",
   "name": "python",
   "nbconvert_exporter": "python",
   "pygments_lexer": "ipython3",
   "version": "3.6.3"
  }
 },
 "nbformat": 4,
 "nbformat_minor": 2
}
